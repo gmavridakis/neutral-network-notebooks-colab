{
  "nbformat": 4,
  "nbformat_minor": 0,
  "metadata": {
    "kernelspec": {
      "display_name": "Python 3",
      "language": "python",
      "name": "python3"
    },
    "language_info": {
      "codemirror_mode": {
        "name": "ipython",
        "version": 3
      },
      "file_extension": ".py",
      "mimetype": "text/x-python",
      "name": "python",
      "nbconvert_exporter": "python",
      "pygments_lexer": "ipython3",
      "version": "3.7.6"
    },
    "toc": {
      "base_numbering": 1,
      "nav_menu": {},
      "number_sections": true,
      "sideBar": true,
      "skip_h1_title": false,
      "title_cell": "Table of Contents",
      "title_sidebar": "Contents",
      "toc_cell": false,
      "toc_position": {},
      "toc_section_display": true,
      "toc_window_display": true
    },
    "colab": {
      "name": "07 Data Preprocessing with Pandas.ipynb",
      "provenance": [],
      "include_colab_link": true
    }
  },
  "cells": [
    {
      "cell_type": "markdown",
      "metadata": {
        "id": "view-in-github",
        "colab_type": "text"
      },
      "source": [
        "<a href=\"https://colab.research.google.com/github/gsiolas/nn-notebooks/blob/main/07_Data_Preprocessing_with_Pandas.ipynb\" target=\"_parent\"><img src=\"https://colab.research.google.com/assets/colab-badge.svg\" alt=\"Open In Colab\"/></a>"
      ]
    },
    {
      "cell_type": "markdown",
      "metadata": {
        "id": "A9TW6ynx2fk3"
      },
      "source": [
        "# Data preprocessing with `pandas`\n",
        "\n",
        "We'll work on a dataset for credit scoring that was proposed some years ago as a data challenge on some data challenge website.\n",
        "It is a realistic dataset that contains a lot of missing values, several types of features (dates, categories, continuous features), so that a serious data cleaning and formating is required.\n",
        "\n",
        "# Importing the data\n",
        "\n",
        "We start by downloading the data. You need to do this only **once** since the next cell downloads the `gro` dataset. This dataset contains the following columns:\n",
        "\n",
        "| Column name          | Description |\n",
        "|:---------------------|:------------|\n",
        "| BirthDate            | Date de naissance |\n",
        "| Customer_Open_Date   | Date d'arrivée du client dans la filiale bancaire |\n",
        "| Customer_Type        | Type de client (existant / nouveau) | \n",
        "| Educational_Level    | Niveau de diplôme |\n",
        "| Id_Customer          | Identifiant du client |\n",
        "| Marital_Status       | Situation familiale |\n",
        "| Nb_Of_Products       | Nombre de produits détenus par le client à l'octroi |\n",
        "| Net_Annual_Income    | Revenu annuel |\n",
        "| Number_Of_Dependant  | Nombre de personnes à charge |\n",
        "| P_Client             | Distinction des clients selon une caractéristique non définie ici |\n",
        "| Prod_Category        | Catégorie du produit |\n",
        "| Prod_Closed_Date     | Date de fermeture du produit |\n",
        "| Prod_Decision_Date   | Date de décision de l'octroi (du financement) |\n",
        "| Prod_Sub_Category    | Sous-catégorie du produit |\n",
        "| Source               | Source de financement (Branch or Sales) |\n",
        "| Type_Of_Residence    | Situation résidentielle |\n",
        "| Y                    | Crédit accordé ou non | |\n",
        "| Years_At_Business    | Nombre d'années dans son emploi actuel |\n",
        "| Years_At_Residence   | Nombre d'années dans son lieu de résidence actuel |"
      ]
    },
    {
      "cell_type": "code",
      "metadata": {
        "ExecuteTime": {
          "end_time": "2020-09-17T11:56:17.931146Z",
          "start_time": "2020-09-17T11:56:17.829662Z"
        },
        "id": "qB7VNQfk2fk6"
      },
      "source": [
        "import requests\n",
        "import os\n",
        "\n",
        "# The path containing your notebook\n",
        "path_data = './'\n",
        "# The name of the file\n",
        "filename = 'gro.csv.gz'\n",
        "\n",
        "if os.path.exists(os.path.join(path_data, filename)):\n",
        "    print('The file %s already exists.' % os.path.join(path_data, filename))\n",
        "else:\n",
        "    url = 'http://stephanegaiffas.github.io/files/m2mo/gro.csv.gz'\n",
        "    r = requests.get(url)\n",
        "    with open(os.path.join(path_data, filename), 'wb') as f:\n",
        "        f.write(r.content)\n",
        "    print('Downloaded file %s.' % os.path.join(path_data, filename))"
      ],
      "execution_count": null,
      "outputs": []
    },
    {
      "cell_type": "markdown",
      "metadata": {
        "id": "QFtOxn1j2flH"
      },
      "source": [
        "## A quick and easy (but actually bad) import"
      ]
    },
    {
      "cell_type": "markdown",
      "metadata": {
        "id": "R7Hy_ZTa2flJ"
      },
      "source": [
        "Let's import the data into a pandas dataframe, as simply as possible\n",
        "The only thing we care about for now is the fact that the column separator \n",
        "is `';'` and not `','` as it should be in a `.csv` file."
      ]
    },
    {
      "cell_type": "code",
      "metadata": {
        "ExecuteTime": {
          "end_time": "2020-09-17T11:56:18.269357Z",
          "start_time": "2020-09-17T11:56:17.932946Z"
        },
        "scrolled": true,
        "id": "-93XLw4Q2flL"
      },
      "source": [
        "import numpy as np\n",
        "import pandas as pd\n",
        "\n",
        "data = pd.read_csv(os.path.join(path_data, filename), sep=';')"
      ],
      "execution_count": null,
      "outputs": []
    },
    {
      "cell_type": "code",
      "metadata": {
        "ExecuteTime": {
          "end_time": "2020-09-17T11:56:18.279881Z",
          "start_time": "2020-09-17T11:56:18.271495Z"
        },
        "scrolled": false,
        "id": "MweAT-Sr2flT"
      },
      "source": [
        "type(data)"
      ],
      "execution_count": null,
      "outputs": []
    },
    {
      "cell_type": "code",
      "metadata": {
        "ExecuteTime": {
          "end_time": "2020-09-17T11:56:18.304404Z",
          "start_time": "2020-09-17T11:56:18.282397Z"
        },
        "scrolled": true,
        "id": "pe3OAa8A2flW"
      },
      "source": [
        "# Let's look at the first lines of the dataframe\n",
        "data.head(n=5)"
      ],
      "execution_count": null,
      "outputs": []
    },
    {
      "cell_type": "code",
      "metadata": {
        "ExecuteTime": {
          "end_time": "2020-09-17T11:56:18.309367Z",
          "start_time": "2020-09-17T11:56:18.305980Z"
        },
        "id": "GBHldogA2fla"
      },
      "source": [
        "# The list of column names\n",
        "data.columns"
      ],
      "execution_count": null,
      "outputs": []
    },
    {
      "cell_type": "markdown",
      "metadata": {
        "id": "Jdc-795_2fld"
      },
      "source": [
        "**Remark**. There are weird columns in the end, they look empty. \n",
        "They don't appear in the description of the data."
      ]
    },
    {
      "cell_type": "code",
      "metadata": {
        "ExecuteTime": {
          "end_time": "2020-09-17T11:56:18.314912Z",
          "start_time": "2020-09-17T11:56:18.310866Z"
        },
        "id": "y5xTbL6f2fle"
      },
      "source": [
        "# Let's look at the types used for each column\n",
        "data.dtypes"
      ],
      "execution_count": null,
      "outputs": []
    },
    {
      "cell_type": "code",
      "metadata": {
        "ExecuteTime": {
          "end_time": "2020-09-17T11:56:18.320011Z",
          "start_time": "2020-09-17T11:56:18.316255Z"
        },
        "id": "c7AEn0oi2flj"
      },
      "source": [
        "data.BirthDate.head()"
      ],
      "execution_count": null,
      "outputs": []
    },
    {
      "cell_type": "code",
      "metadata": {
        "ExecuteTime": {
          "end_time": "2020-09-17T11:56:18.325812Z",
          "start_time": "2020-09-17T11:56:18.322792Z"
        },
        "id": "_Vcm_MKX2flm"
      },
      "source": [
        "# Birth date is imported as a string (all columns containing dates do)\n",
        "type(data['BirthDate'][0])"
      ],
      "execution_count": null,
      "outputs": []
    },
    {
      "cell_type": "code",
      "metadata": {
        "ExecuteTime": {
          "end_time": "2020-09-17T11:56:18.331978Z",
          "start_time": "2020-09-17T11:56:18.328127Z"
        },
        "scrolled": false,
        "id": "msUU44Fb2flq"
      },
      "source": [
        "data['Prod_Sub_Category'].head()"
      ],
      "execution_count": null,
      "outputs": []
    },
    {
      "cell_type": "code",
      "metadata": {
        "ExecuteTime": {
          "end_time": "2020-09-17T11:56:18.336478Z",
          "start_time": "2020-09-17T11:56:18.333383Z"
        },
        "id": "rPBs8QTB2flt"
      },
      "source": [
        "# Product sub category is imported as a string\n",
        "type(data['Prod_Sub_Category'][0])"
      ],
      "execution_count": null,
      "outputs": []
    },
    {
      "cell_type": "code",
      "metadata": {
        "ExecuteTime": {
          "end_time": "2020-09-17T11:56:18.341874Z",
          "start_time": "2020-09-17T11:56:18.337824Z"
        },
        "scrolled": false,
        "id": "VzWgNzcA2fl0"
      },
      "source": [
        "data['Net_Annual_Income'].head(n=20)"
      ],
      "execution_count": null,
      "outputs": []
    },
    {
      "cell_type": "code",
      "metadata": {
        "ExecuteTime": {
          "end_time": "2020-09-17T11:56:18.346422Z",
          "start_time": "2020-09-17T11:56:18.343429Z"
        },
        "scrolled": true,
        "id": "FSn3K0HO2fl4"
      },
      "source": [
        "# Net actual income is a string as well ! While it is clearly a number\n",
        "type(data['Net_Annual_Income'][0])"
      ],
      "execution_count": null,
      "outputs": []
    },
    {
      "cell_type": "code",
      "metadata": {
        "ExecuteTime": {
          "end_time": "2020-09-17T11:56:18.418932Z",
          "start_time": "2020-09-17T11:56:18.347871Z"
        },
        "scrolled": false,
        "id": "RvndDaei2fl8"
      },
      "source": [
        "# Quick summary statistics of the dataset features'\n",
        "data.describe(include='all')"
      ],
      "execution_count": null,
      "outputs": []
    },
    {
      "cell_type": "markdown",
      "metadata": {
        "id": "B3JUj_cR2fmC"
      },
      "source": [
        "## Let's assess what we did\n",
        "\n",
        "It appears that we have to work a little bit more. \n",
        "Here is the list of problems we have.\n",
        "- The last three columns are weird and empty\n",
        "- Dates are actually `str` (python's string type)\n",
        "- There is a lot of missing values\n",
        "- Categorial features are `str`\n",
        "- The annual net income is imported as a string\n",
        "\n",
        "By looking at the column names, basic statistics and the dataset \n",
        "description, we infer the type of features that we have.\n",
        "There are dates features, continuous features, categorical features, and\n",
        "some features could be either treated as categorical or continuous.\n",
        "\n",
        "There is **a lot** of missing values, that need to be handled somehow.\n",
        "\n",
        "The annual net income is imported as a string, we need to understand why.\n",
        "\n",
        "We really need to treat dates as dates and not string (because we'd want to compute the age of a client based on its birth year for instance).\n",
        "\n",
        "Here is the structure of the features.\n",
        "\n",
        "**Continuous features**\n",
        "- Years_At_Residence\n",
        "- Net_Annual_Income\n",
        "- Years_At_Business\n",
        "\n",
        "**To decide features**\n",
        "- Number_Of_Dependant\n",
        "- Nb_Of_Products\n",
        "\n",
        "**Categorical features are**\n",
        "- Customer_Type\n",
        "- P_Client\n",
        "- Educational_Level\n",
        "- Marital_Status\n",
        "- Prod_Sub_Category\n",
        "- Source\n",
        "- Type_Of_Residence\n",
        "- Prod_Category\n",
        "\n",
        "**Date features are**\n",
        "- BirthDate\n",
        "- Customer_Open_Date\n",
        "- Prod_Decision_Date\n",
        "- Prod_Closed_Date"
      ]
    },
    {
      "cell_type": "markdown",
      "metadata": {
        "id": "cmBxqcMK2fmD"
      },
      "source": [
        "# A closer look at the import problems\n",
        "\n",
        "Let's find solutions to all these import problems.\n",
        "\n",
        "## The last three columns are weird and empty \n",
        "\n",
        "It seems to come from the fact that the data always ends with several `';'` characters. Let's simply remove them using the `usecols`\n",
        "option."
      ]
    },
    {
      "cell_type": "markdown",
      "metadata": {
        "id": "46mTppMs2fmE"
      },
      "source": [
        "## Dates are actually `str` (python's string type)\n",
        "\n",
        "We need to specify which columns must be encoded as dates using the `parse_dates` option. Fortunately enough, the `pandas` is clever enough to interpret the date format."
      ]
    },
    {
      "cell_type": "code",
      "metadata": {
        "ExecuteTime": {
          "end_time": "2020-09-17T11:56:18.423652Z",
          "start_time": "2020-09-17T11:56:18.420530Z"
        },
        "scrolled": true,
        "id": "XMvFlSvr2fmE"
      },
      "source": [
        "type(data['BirthDate'][0])"
      ],
      "execution_count": null,
      "outputs": []
    },
    {
      "cell_type": "markdown",
      "metadata": {
        "id": "WRpatcyI2fmJ"
      },
      "source": [
        "## There is a lot of missing values \n",
        "\n",
        "We'll see below that actually a single column mostly contain missing values."
      ]
    },
    {
      "cell_type": "code",
      "metadata": {
        "ExecuteTime": {
          "end_time": "2020-09-17T11:56:18.432052Z",
          "start_time": "2020-09-17T11:56:18.424871Z"
        },
        "scrolled": false,
        "id": "rYVisHXt2fmJ"
      },
      "source": [
        "data.isnull().sum()"
      ],
      "execution_count": null,
      "outputs": []
    },
    {
      "cell_type": "code",
      "metadata": {
        "ExecuteTime": {
          "end_time": "2020-09-17T11:56:18.439155Z",
          "start_time": "2020-09-17T11:56:18.433445Z"
        },
        "id": "8x1lHr8W2fmN"
      },
      "source": [
        "# The \"product closed date\" seems to contain a lot of missing values !\n",
        "data[['Prod_Closed_Date']].head(5)"
      ],
      "execution_count": null,
      "outputs": []
    },
    {
      "cell_type": "code",
      "metadata": {
        "ExecuteTime": {
          "end_time": "2020-09-17T11:56:18.444218Z",
          "start_time": "2020-09-17T11:56:18.440536Z"
        },
        "scrolled": true,
        "id": "Aw5wZ_Le2fmR"
      },
      "source": [
        "# We remove the useless columns from the dataframe\n",
        "data = data.drop(['Prod_Closed_Date', 'Unnamed: 19', \n",
        "                            'Unnamed: 20', 'Unnamed: 21'], axis=1)"
      ],
      "execution_count": null,
      "outputs": []
    },
    {
      "cell_type": "code",
      "metadata": {
        "ExecuteTime": {
          "end_time": "2020-09-17T11:56:18.459302Z",
          "start_time": "2020-09-17T11:56:18.445603Z"
        },
        "scrolled": true,
        "id": "I2YUWbFz2fmW"
      },
      "source": [
        "data.head()"
      ],
      "execution_count": null,
      "outputs": []
    },
    {
      "cell_type": "code",
      "metadata": {
        "ExecuteTime": {
          "end_time": "2020-09-17T11:56:18.481057Z",
          "start_time": "2020-09-17T11:56:18.460842Z"
        },
        "scrolled": true,
        "id": "IOkK7sW32fmb"
      },
      "source": [
        "# The remaining lines with missing values\n",
        "data[data.isnull().any(axis=1)]"
      ],
      "execution_count": null,
      "outputs": []
    },
    {
      "cell_type": "markdown",
      "metadata": {
        "id": "lxX-oZSw2fmf"
      },
      "source": [
        "## Categorial features are `str`\n",
        "\n",
        "We need to say the dtype we want to use for some columns using the `dtype` option."
      ]
    },
    {
      "cell_type": "code",
      "metadata": {
        "ExecuteTime": {
          "end_time": "2020-09-17T11:56:18.485675Z",
          "start_time": "2020-09-17T11:56:18.482593Z"
        },
        "id": "w56HEFNK2fmg"
      },
      "source": [
        "# Product sub category is imported as a string\n",
        "type(data['Prod_Sub_Category'][0])"
      ],
      "execution_count": null,
      "outputs": []
    },
    {
      "cell_type": "code",
      "metadata": {
        "ExecuteTime": {
          "end_time": "2020-09-17T11:56:18.490653Z",
          "start_time": "2020-09-17T11:56:18.487170Z"
        },
        "scrolled": true,
        "id": "aEhGdJjY2fmj"
      },
      "source": [
        "data['Prod_Sub_Category'].unique()"
      ],
      "execution_count": null,
      "outputs": []
    },
    {
      "cell_type": "markdown",
      "metadata": {
        "id": "dXjnIeKo2fmm"
      },
      "source": [
        "## The annual net income is imported as a string\n",
        "\n",
        "This problem comes from the fact that the decimal separator is in European notation: it's a `','` and not a `'.'`, so we need to specify it using the `decimal` option."
      ]
    },
    {
      "cell_type": "code",
      "metadata": {
        "ExecuteTime": {
          "end_time": "2020-09-17T11:56:18.495400Z",
          "start_time": "2020-09-17T11:56:18.492089Z"
        },
        "id": "ZMS59tCD2fmn"
      },
      "source": [
        "type(data['Net_Annual_Income'][0])"
      ],
      "execution_count": null,
      "outputs": []
    },
    {
      "cell_type": "code",
      "metadata": {
        "ExecuteTime": {
          "end_time": "2020-09-17T11:56:18.505528Z",
          "start_time": "2020-09-17T11:56:18.501285Z"
        },
        "scrolled": false,
        "id": "e_BfLBpa2fms"
      },
      "source": [
        "data['Net_Annual_Income'].head(n=10)"
      ],
      "execution_count": null,
      "outputs": []
    },
    {
      "cell_type": "markdown",
      "metadata": {
        "id": "PN6RE2gw2fmw"
      },
      "source": [
        "# A better import of the data\n",
        "\n",
        "## Let's import again the data\n",
        "\n",
        "- We build a dict that specifies the types to use for each column \n",
        "and pass it to `read_csv` using the `dtype` option\n",
        "- We also specify the `decimal`, `usecols` and `parse_dates` options.\n",
        "\n",
        "**Important remark (expert)**. Some columns could be `np.int`. \n",
        "However, `pandas` (actually its `numpy`) does not support columns \n",
        "with integer dtype and missing values."
      ]
    },
    {
      "cell_type": "code",
      "metadata": {
        "ExecuteTime": {
          "end_time": "2020-09-17T11:56:18.546487Z",
          "start_time": "2020-09-17T11:56:18.508811Z"
        },
        "id": "QaGO35N62fmy"
      },
      "source": [
        "gro_dtypes = {\n",
        "    'Years_At_Residence': np.int,\n",
        "    'Net_Annual_Income' : np.float,\n",
        "    'Years_At_Business': np.float,\n",
        "    'Number_Of_Dependant': np.float,\n",
        "    'Nb_Of_Products': np.int,\n",
        "    'Customer_Type': 'category',\n",
        "    'P_Client': 'category',\n",
        "    'Educational_Level': 'category',\n",
        "    'Marital_Status': 'category',\n",
        "    'Prod_Sub_Category': 'category',\n",
        "    'Source': 'category',\n",
        "    'Type_Of_Residence': 'category',\n",
        "    'Prod_Category': 'category',\n",
        "}\n",
        "\n",
        "data = pd.read_csv(os.path.join(path_data, filename), \n",
        "                   sep=';', decimal=',', usecols=range(19),\n",
        "                   parse_dates=['BirthDate', 'Customer_Open_Date', \n",
        "                                'Prod_Decision_Date', 'Prod_Closed_Date'],\n",
        "                   dtype=gro_dtypes)"
      ],
      "execution_count": null,
      "outputs": []
    },
    {
      "cell_type": "code",
      "metadata": {
        "ExecuteTime": {
          "end_time": "2020-09-17T11:56:18.552348Z",
          "start_time": "2020-09-17T11:56:18.547995Z"
        },
        "scrolled": true,
        "id": "3jUfhbkS2fm2"
      },
      "source": [
        "data.dtypes"
      ],
      "execution_count": null,
      "outputs": []
    },
    {
      "cell_type": "code",
      "metadata": {
        "ExecuteTime": {
          "end_time": "2020-09-17T11:56:18.557823Z",
          "start_time": "2020-09-17T11:56:18.553719Z"
        },
        "id": "r6ZHjtZ42fm5"
      },
      "source": [
        "# Product subcategory is imported as a string as well\n",
        "data['Prod_Sub_Category'].head()"
      ],
      "execution_count": null,
      "outputs": []
    },
    {
      "cell_type": "code",
      "metadata": {
        "ExecuteTime": {
          "end_time": "2020-09-17T11:56:18.562971Z",
          "start_time": "2020-09-17T11:56:18.559161Z"
        },
        "scrolled": false,
        "id": "LAXm7z7B2fm8"
      },
      "source": [
        "data['BirthDate'].head()"
      ],
      "execution_count": null,
      "outputs": []
    },
    {
      "cell_type": "code",
      "metadata": {
        "ExecuteTime": {
          "end_time": "2020-09-17T11:56:18.567516Z",
          "start_time": "2020-09-17T11:56:18.564288Z"
        },
        "id": "Aq8vIJs72fnA"
      },
      "source": [
        "data['BirthDate'][0]"
      ],
      "execution_count": null,
      "outputs": []
    },
    {
      "cell_type": "code",
      "metadata": {
        "ExecuteTime": {
          "end_time": "2020-09-17T11:56:18.572427Z",
          "start_time": "2020-09-17T11:56:18.568933Z"
        },
        "id": "cOJLudOD2fnE"
      },
      "source": [
        "# So let's simply remove this column for now\n",
        "prod_closed_date = data.pop('Prod_Closed_Date')\n",
        "data.shape"
      ],
      "execution_count": null,
      "outputs": []
    },
    {
      "cell_type": "code",
      "metadata": {
        "ExecuteTime": {
          "end_time": "2020-09-17T11:56:18.580689Z",
          "start_time": "2020-09-17T11:56:18.573712Z"
        },
        "scrolled": true,
        "id": "P-IAu_c22fnI"
      },
      "source": [
        "# And remove the remaining rows with missing values\n",
        "data = data.dropna()\n",
        "data.shape"
      ],
      "execution_count": null,
      "outputs": []
    },
    {
      "cell_type": "code",
      "metadata": {
        "ExecuteTime": {
          "end_time": "2020-09-17T11:56:18.722045Z",
          "start_time": "2020-09-17T11:56:18.582403Z"
        },
        "id": "hCwswQmj2fnO"
      },
      "source": [
        "# Now we save the cleaned dataset it into a CSV file\n",
        "data.to_csv(os.path.join(path_data, 'gro_cleaned.csv'))"
      ],
      "execution_count": null,
      "outputs": []
    },
    {
      "cell_type": "markdown",
      "metadata": {
        "id": "IJJ9TmLf2fnS"
      },
      "source": [
        "## The net income columns is very weird"
      ]
    },
    {
      "cell_type": "code",
      "metadata": {
        "ExecuteTime": {
          "end_time": "2020-09-17T11:56:18.726923Z",
          "start_time": "2020-09-17T11:56:18.723505Z"
        },
        "scrolled": true,
        "id": "2UobZBFm2fnS"
      },
      "source": [
        "data.columns"
      ],
      "execution_count": null,
      "outputs": []
    },
    {
      "cell_type": "code",
      "metadata": {
        "ExecuteTime": {
          "end_time": "2020-09-17T11:56:18.733925Z",
          "start_time": "2020-09-17T11:56:18.728562Z"
        },
        "scrolled": true,
        "id": "bm7M_YoA2fnV"
      },
      "source": [
        "income = data['Net_Annual_Income']\n",
        "income.describe()"
      ],
      "execution_count": null,
      "outputs": []
    },
    {
      "cell_type": "markdown",
      "metadata": {
        "id": "L19vu-hD2fnY"
      },
      "source": [
        "The net income has a very weird distribution: a non-negligible number of very large values."
      ]
    },
    {
      "cell_type": "code",
      "metadata": {
        "ExecuteTime": {
          "end_time": "2020-09-17T11:56:18.738760Z",
          "start_time": "2020-09-17T11:56:18.735144Z"
        },
        "id": "WHNBY5eC2fnZ"
      },
      "source": [
        "(income <= 100).sum(), (income > 100).sum()"
      ],
      "execution_count": null,
      "outputs": []
    },
    {
      "cell_type": "markdown",
      "metadata": {
        "id": "Yo5wz2qt2fnc"
      },
      "source": [
        "Most values are smaller than 100, while some are much larger..."
      ]
    },
    {
      "cell_type": "code",
      "metadata": {
        "ExecuteTime": {
          "end_time": "2020-09-17T11:56:19.153684Z",
          "start_time": "2020-09-17T11:56:18.739834Z"
        },
        "id": "DMXiZlYp2fnc"
      },
      "source": [
        "import matplotlib.pyplot as plt\n",
        "import seaborn as sns\n",
        "%matplotlib inline\n",
        "\n",
        "sns.set_context(\"notebook\", font_scale=1.2)"
      ],
      "execution_count": null,
      "outputs": []
    },
    {
      "cell_type": "code",
      "metadata": {
        "ExecuteTime": {
          "end_time": "2020-09-17T11:56:19.287193Z",
          "start_time": "2020-09-17T11:56:19.155976Z"
        },
        "id": "V1al1y2Q2fnf"
      },
      "source": [
        "plt.figure(figsize=(10, 6))\n",
        "_ = plt.hist(income, bins=10)"
      ],
      "execution_count": null,
      "outputs": []
    },
    {
      "cell_type": "code",
      "metadata": {
        "ExecuteTime": {
          "end_time": "2020-09-17T11:56:19.525462Z",
          "start_time": "2020-09-17T11:56:19.289192Z"
        },
        "id": "Do5IvnGG2fni"
      },
      "source": [
        "plt.figure(figsize=(10, 4))\n",
        "plt.subplot(1, 2, 1)\n",
        "plt.hist(income[income <= 1000])\n",
        "plt.subplot(1, 2, 2)\n",
        "plt.hist(income[income > 1000])\n",
        "plt.tight_layout()"
      ],
      "execution_count": null,
      "outputs": []
    },
    {
      "cell_type": "code",
      "metadata": {
        "ExecuteTime": {
          "end_time": "2020-09-17T11:56:19.698020Z",
          "start_time": "2020-09-17T11:56:19.527442Z"
        },
        "scrolled": false,
        "id": "1I_OarlE2fnl"
      },
      "source": [
        "plt.figure(figsize=(8, 5))\n",
        "sns.distplot(income[income < 300])"
      ],
      "execution_count": null,
      "outputs": []
    },
    {
      "cell_type": "markdown",
      "metadata": {
        "id": "kD8di2Bx2fnp"
      },
      "source": [
        "Seems that there's a bug in the net income features. \n",
        "Some numbers are in kilo euros, while others are in euros.\n",
        "Let's clean this by removing the rows with an income larger than 200."
      ]
    },
    {
      "cell_type": "code",
      "metadata": {
        "ExecuteTime": {
          "end_time": "2020-09-17T11:56:19.858355Z",
          "start_time": "2020-09-17T11:56:19.700068Z"
        },
        "scrolled": false,
        "id": "irbw2C3g2fnr"
      },
      "source": [
        "plt.figure(figsize=(8, 5))\n",
        "sns.distplot(income[income < 200])"
      ],
      "execution_count": null,
      "outputs": []
    },
    {
      "cell_type": "code",
      "metadata": {
        "ExecuteTime": {
          "end_time": "2020-09-17T11:56:19.865105Z",
          "start_time": "2020-09-17T11:56:19.860334Z"
        },
        "id": "3Uz5IE7d2fnv"
      },
      "source": [
        "data = data[income <= 200]"
      ],
      "execution_count": null,
      "outputs": []
    },
    {
      "cell_type": "markdown",
      "metadata": {
        "id": "_qZbQfAk2fny"
      },
      "source": [
        "# Some data visualization with `pandas` + `seaborn`"
      ]
    },
    {
      "cell_type": "code",
      "metadata": {
        "ExecuteTime": {
          "end_time": "2020-09-17T11:56:20.263448Z",
          "start_time": "2020-09-17T11:56:19.866527Z"
        },
        "scrolled": false,
        "id": "ce3UaDzw2fnz"
      },
      "source": [
        "plt.figure(figsize=(8, 5))\n",
        "sns.stripplot(x='Educational_Level', y='Net_Annual_Income', hue='Y', \n",
        "              jitter=True, data=data)"
      ],
      "execution_count": null,
      "outputs": []
    },
    {
      "cell_type": "code",
      "metadata": {
        "ExecuteTime": {
          "end_time": "2020-09-17T11:56:20.504965Z",
          "start_time": "2020-09-17T11:56:20.265951Z"
        },
        "id": "NIpA_FXQ2fn1"
      },
      "source": [
        "plt.figure(figsize=(12, 6))\n",
        "sns.boxplot(x='Educational_Level', y='Net_Annual_Income', \n",
        "            hue='Y', data=data)"
      ],
      "execution_count": null,
      "outputs": []
    },
    {
      "cell_type": "code",
      "metadata": {
        "ExecuteTime": {
          "end_time": "2020-09-17T11:56:20.711383Z",
          "start_time": "2020-09-17T11:56:20.506813Z"
        },
        "scrolled": false,
        "id": "Dx5kc2_V2fn6"
      },
      "source": [
        "plt.figure(figsize=(12, 6))\n",
        "sns.violinplot(x='Marital_Status', y='Net_Annual_Income', \n",
        "               hue='Y', split=True, data=data)"
      ],
      "execution_count": null,
      "outputs": []
    },
    {
      "cell_type": "code",
      "metadata": {
        "ExecuteTime": {
          "end_time": "2020-09-17T11:56:20.837771Z",
          "start_time": "2020-09-17T11:56:20.713401Z"
        },
        "id": "nu232NZf2fn-"
      },
      "source": [
        "plt.figure(figsize=(10, 5))\n",
        "sns.countplot(x='Marital_Status', hue='Y', data=data)"
      ],
      "execution_count": null,
      "outputs": []
    },
    {
      "cell_type": "code",
      "metadata": {
        "ExecuteTime": {
          "end_time": "2020-09-17T11:56:21.898376Z",
          "start_time": "2020-09-17T11:56:20.839736Z"
        },
        "scrolled": false,
        "id": "RgWXLpBk2foB"
      },
      "source": [
        "fig, axes = plt.subplots(nrows=4, ncols=3, figsize=(16, 16))\n",
        "columns = ['Customer_Type', 'P_Client', 'Educational_Level', \n",
        "           'Number_Of_Dependant', 'Marital_Status', 'Prod_Sub_Category',\n",
        "           'Source', 'Type_Of_Residence', 'Nb_Of_Products', \n",
        "           'Prod_Category', 'Y']\n",
        "\n",
        "for i, colname in enumerate(columns):\n",
        "    sns.countplot(colname, data=data, ax=fig.axes[i])\n",
        "plt.tight_layout()"
      ],
      "execution_count": null,
      "outputs": []
    },
    {
      "cell_type": "markdown",
      "metadata": {
        "id": "maDDT-3a2foE"
      },
      "source": [
        "# Final preparation of the dataset"
      ]
    },
    {
      "cell_type": "code",
      "metadata": {
        "ExecuteTime": {
          "end_time": "2020-09-17T11:56:21.904824Z",
          "start_time": "2020-09-17T11:56:21.899768Z"
        },
        "id": "7vgotwyA2foF"
      },
      "source": [
        "# First we make lists of continuous, categorial and date features\n",
        "\n",
        "cnt_featnames = [\n",
        "    'Years_At_Residence',\n",
        "    'Net_Annual_Income',\n",
        "    'Years_At_Business',\n",
        "    'Number_Of_Dependant'\n",
        "]\n",
        "\n",
        "cat_featnames = [\n",
        "    'Customer_Type',\n",
        "    'P_Client',\n",
        "    'Educational_Level',\n",
        "    'Marital_Status',\n",
        "    'Prod_Sub_Category',\n",
        "    'Source',\n",
        "    'Type_Of_Residence',\n",
        "    'Prod_Category',\n",
        "    'Nb_Of_Products'\n",
        "]\n",
        "\n",
        "date_featnames = [\n",
        "    'BirthDate',\n",
        "    'Customer_Open_Date',\n",
        "    'Prod_Decision_Date'\n",
        "#    'Prod_Closed_Date'\n",
        "]"
      ],
      "execution_count": null,
      "outputs": []
    },
    {
      "cell_type": "markdown",
      "metadata": {
        "id": "gFZxJzo52foI"
      },
      "source": [
        "## Creation of the features matrix"
      ]
    },
    {
      "cell_type": "code",
      "metadata": {
        "ExecuteTime": {
          "end_time": "2020-09-17T11:56:21.915942Z",
          "start_time": "2020-09-17T11:56:21.907031Z"
        },
        "scrolled": true,
        "id": "if3sjiK02foK"
      },
      "source": [
        "data[cnt_featnames].head()"
      ],
      "execution_count": null,
      "outputs": []
    },
    {
      "cell_type": "code",
      "metadata": {
        "ExecuteTime": {
          "end_time": "2020-09-17T11:56:21.939488Z",
          "start_time": "2020-09-17T11:56:21.917567Z"
        },
        "scrolled": false,
        "id": "mAwOnuxI2foN"
      },
      "source": [
        "bin_features = pd.get_dummies(data[cat_featnames],\n",
        "                              prefix_sep='#', drop_first=True)"
      ],
      "execution_count": null,
      "outputs": []
    },
    {
      "cell_type": "code",
      "metadata": {
        "ExecuteTime": {
          "end_time": "2020-09-17T11:56:21.952698Z",
          "start_time": "2020-09-17T11:56:21.940875Z"
        },
        "scrolled": false,
        "id": "bI9owv1D2foQ"
      },
      "source": [
        "bin_features.head()"
      ],
      "execution_count": null,
      "outputs": []
    },
    {
      "cell_type": "code",
      "metadata": {
        "ExecuteTime": {
          "end_time": "2020-09-17T11:56:21.962516Z",
          "start_time": "2020-09-17T11:56:21.954651Z"
        },
        "id": "eomzPIzG2foX"
      },
      "source": [
        "cnt_features = data[cnt_featnames]\n",
        "cnt_features.head()"
      ],
      "execution_count": null,
      "outputs": []
    },
    {
      "cell_type": "code",
      "metadata": {
        "ExecuteTime": {
          "end_time": "2020-09-17T11:56:21.975192Z",
          "start_time": "2020-09-17T11:56:21.963929Z"
        },
        "scrolled": false,
        "id": "zMJ1UA-l2foZ"
      },
      "source": [
        "from pandas import Timestamp\n",
        "\n",
        "def age(x):\n",
        "    today = Timestamp.today()\n",
        "    return (today - x).dt.days\n",
        "\n",
        "date_features = data[date_featnames].apply(age, axis=0)\n",
        "date_features.head()"
      ],
      "execution_count": null,
      "outputs": []
    },
    {
      "cell_type": "markdown",
      "metadata": {
        "id": "RXpghpV42fod"
      },
      "source": [
        "## Final features matrix"
      ]
    },
    {
      "cell_type": "code",
      "metadata": {
        "ExecuteTime": {
          "end_time": "2020-09-17T11:56:21.981251Z",
          "start_time": "2020-09-17T11:56:21.976951Z"
        },
        "id": "XD88Rq512foe"
      },
      "source": [
        "all_features = pd.concat([bin_features, cnt_features, date_features], axis=1)"
      ],
      "execution_count": null,
      "outputs": []
    },
    {
      "cell_type": "code",
      "metadata": {
        "ExecuteTime": {
          "end_time": "2020-09-17T11:56:21.985707Z",
          "start_time": "2020-09-17T11:56:21.982424Z"
        },
        "scrolled": true,
        "id": "zO9T-WpA2fog"
      },
      "source": [
        "all_features.columns"
      ],
      "execution_count": null,
      "outputs": []
    },
    {
      "cell_type": "code",
      "metadata": {
        "ExecuteTime": {
          "end_time": "2020-09-17T11:56:22.000937Z",
          "start_time": "2020-09-17T11:56:21.986964Z"
        },
        "id": "Exv0q8ZD2fol"
      },
      "source": [
        "all_features.head()"
      ],
      "execution_count": null,
      "outputs": []
    },
    {
      "cell_type": "markdown",
      "metadata": {
        "id": "RMYcukVg2fon"
      },
      "source": [
        "**VERY IMPORTANT**: we removed lines of data that contained missing values. The index of the dataframe is\n",
        "    therefore not contiguous anymore"
      ]
    },
    {
      "cell_type": "code",
      "metadata": {
        "ExecuteTime": {
          "end_time": "2020-09-17T11:56:22.007375Z",
          "start_time": "2020-09-17T11:56:22.003466Z"
        },
        "id": "A_KpCJDO2foo"
      },
      "source": [
        "all_features.index.max()"
      ],
      "execution_count": null,
      "outputs": []
    },
    {
      "cell_type": "markdown",
      "metadata": {
        "id": "3xpInDrI2fop"
      },
      "source": [
        "This could be a problem for later. So let's reset the index to get a contiguous one"
      ]
    },
    {
      "cell_type": "code",
      "metadata": {
        "ExecuteTime": {
          "end_time": "2020-09-17T11:56:22.012058Z",
          "start_time": "2020-09-17T11:56:22.008656Z"
        },
        "id": "RcZlIaMN2foq"
      },
      "source": [
        "all_features.shape"
      ],
      "execution_count": null,
      "outputs": []
    },
    {
      "cell_type": "code",
      "metadata": {
        "ExecuteTime": {
          "end_time": "2020-09-17T11:56:22.016544Z",
          "start_time": "2020-09-17T11:56:22.013870Z"
        },
        "id": "ZOkQNggq2fox"
      },
      "source": [
        "all_features.reset_index(inplace=True, drop=True)"
      ],
      "execution_count": null,
      "outputs": []
    },
    {
      "cell_type": "code",
      "metadata": {
        "ExecuteTime": {
          "end_time": "2020-09-17T11:56:22.033765Z",
          "start_time": "2020-09-17T11:56:22.018145Z"
        },
        "id": "Ubh1VGv-2foz"
      },
      "source": [
        "all_features.head()"
      ],
      "execution_count": null,
      "outputs": []
    },
    {
      "cell_type": "markdown",
      "metadata": {
        "id": "srwSuHqv2fo2"
      },
      "source": [
        "## Let's save the data using `pickle`"
      ]
    },
    {
      "cell_type": "code",
      "metadata": {
        "ExecuteTime": {
          "end_time": "2020-09-17T11:56:22.040542Z",
          "start_time": "2020-09-17T11:56:22.035398Z"
        },
        "id": "rrm07H4R2fo3"
      },
      "source": [
        "import pickle as pkl\n",
        "\n",
        "X = all_features\n",
        "y = data['Y']\n",
        "\n",
        "data_pkl = {}\n",
        "data_pkl['features'] = X\n",
        "data_pkl['labels'] = y\n",
        "\n",
        "data_pkl['cnt_featnames'] = cnt_featnames\n",
        "data_pkl['cat_featnames'] = cat_featnames\n",
        "data_pkl['date_featnames'] = date_featnames\n",
        "\n",
        "with open(os.path.join(path_data, 'gro_training.pkl'), 'wb') as f:\n",
        "    pkl.dump(data_pkl, f)"
      ],
      "execution_count": null,
      "outputs": []
    },
    {
      "cell_type": "markdown",
      "metadata": {
        "id": "0vL_wG192fo4"
      },
      "source": [
        "The preprocessed data is saved in a pickle file called `gro_training.pkl`."
      ]
    },
    {
      "cell_type": "markdown",
      "metadata": {
        "id": "N3ObghmI2fo5"
      },
      "source": [
        "## Another approach using `scikit-learn`\n",
        "\n",
        "![](https://miro.medium.com/max/1050/0*j9TC7PTOq1YaQ5se.png)"
      ]
    },
    {
      "cell_type": "code",
      "metadata": {
        "ExecuteTime": {
          "end_time": "2020-09-17T11:56:22.086651Z",
          "start_time": "2020-09-17T11:56:22.041644Z"
        },
        "scrolled": false,
        "id": "ucaYtd8X2fo6"
      },
      "source": [
        "from sklearn.base import TransformerMixin, BaseEstimator\n",
        "from sklearn.preprocessing import StandardScaler, OneHotEncoder\n",
        "from sklearn.compose import ColumnTransformer\n",
        "from sklearn.pipeline import Pipeline\n",
        "\n",
        "# First we create a scikit-learn encoder that computes \n",
        "#  the age in days of columns containing dates\n",
        "class AgeEncoder(TransformerMixin, BaseEstimator):\n",
        "    def fit(self, X, y=None):\n",
        "        self.today = Timestamp.today()\n",
        "        return self\n",
        "\n",
        "    def transform(self, X):\n",
        "        return X.apply(lambda x: (x - self.today).dt.days, axis=0)\n",
        "\n",
        "# Centers and reduces (variance=1) columns\n",
        "standard_scaler = StandardScaler()\n",
        "\n",
        "# One-hot encode, similar to pd.get_dummies\n",
        "one_hot_encoder = OneHotEncoder(drop='first', sparse=False)\n",
        "\n",
        "# A pipeline that first computes age, and standardizes it\n",
        "scaled_age_encoder = Pipeline([\n",
        "    ('age', AgeEncoder()),\n",
        "    ('scaling', StandardScaler())\n",
        "])\n",
        "\n",
        "# Let's combine all these transformations\n",
        "transformer = ColumnTransformer([\n",
        "    ('standard_scaling', standard_scaler, cnt_featnames),\n",
        "    ('one_hot_encoding', one_hot_encoder, cat_featnames),\n",
        "    ('dates_age_scaled', scaled_age_encoder, date_featnames)\n",
        "])\n",
        "\n",
        "transformer.fit_transform(data)"
      ],
      "execution_count": null,
      "outputs": []
    }
  ]
}