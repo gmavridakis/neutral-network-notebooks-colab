{
  "nbformat": 4,
  "nbformat_minor": 0,
  "metadata": {
    "celltoolbar": "Slideshow",
    "kernelspec": {
      "display_name": "Python 3",
      "language": "python",
      "name": "python3"
    },
    "language_info": {
      "codemirror_mode": {
        "name": "ipython",
        "version": 3
      },
      "file_extension": ".py",
      "mimetype": "text/x-python",
      "name": "python",
      "nbconvert_exporter": "python",
      "pygments_lexer": "ipython3",
      "version": "3.6.8"
    },
    "toc": {
      "base_numbering": 1,
      "nav_menu": {},
      "number_sections": true,
      "sideBar": true,
      "skip_h1_title": false,
      "title_cell": "Table of Contents",
      "title_sidebar": "Contents",
      "toc_cell": false,
      "toc_position": {},
      "toc_section_display": true,
      "toc_window_display": false
    },
    "colab": {
      "name": "04 Numpy.ipynb",
      "provenance": [],
      "include_colab_link": true
    }
  },
  "cells": [
    {
      "cell_type": "markdown",
      "metadata": {
        "id": "view-in-github",
        "colab_type": "text"
      },
      "source": [
        "<a href=\"https://colab.research.google.com/github/gsiolas/nn-notebooks/blob/main/04_Numpy.ipynb\" target=\"_parent\"><img src=\"https://colab.research.google.com/assets/colab-badge.svg\" alt=\"Open In Colab\"/></a>"
      ]
    },
    {
      "cell_type": "markdown",
      "metadata": {
        "id": "lhcj8c5D2Cvi"
      },
      "source": [
        "# Introduction to `numpy`\n",
        "\n",
        "![](https://upload.wikimedia.org/wikipedia/commons/thumb/1/1a/NumPy_logo.svg/1163px-NumPy_logo.svg.png)\n",
        "\n",
        "`NumPy` is the fundamental package for scientific computing with Python. It contains among other things:\n",
        "\n",
        "- a powerful N-dimensional array object\n",
        "- sophisticated (broadcasting) functions\n",
        "- tools for integrating C/C++ and Fortran code\n",
        "- useful linear algebra, Fourier transform, and random number capabilities\n",
        "\n",
        "Besides its obvious scientific uses, NumPy can also be used as an efficient multi-dimensional container of generic data. Arbitrary data-types can be defined. This allows NumPy to seamlessly and speedily integrate with a wide variety of databases.\n",
        "\n",
        "Library documentation: <a>http://www.numpy.org/</a>"
      ]
    },
    {
      "cell_type": "markdown",
      "metadata": {
        "id": "83d7GoTF2Cvj"
      },
      "source": [
        "# The base `numpy.array` object"
      ]
    },
    {
      "cell_type": "code",
      "metadata": {
        "ExecuteTime": {
          "end_time": "2019-11-27T20:35:58.743174Z",
          "start_time": "2019-11-27T20:35:58.735268Z"
        },
        "id": "yvwXe4Tz2Cvk"
      },
      "source": [
        "import numpy as np\n",
        "\n",
        "# declare a vector using a list as the argument\n",
        "v = np.array([1., 2, 3, 4])\n",
        "v"
      ],
      "execution_count": null,
      "outputs": []
    },
    {
      "cell_type": "code",
      "metadata": {
        "ExecuteTime": {
          "end_time": "2019-11-27T20:35:59.455413Z",
          "start_time": "2019-11-27T20:35:59.448548Z"
        },
        "scrolled": true,
        "id": "ObCR9TNk2Cvr"
      },
      "source": [
        "v.shape"
      ],
      "execution_count": null,
      "outputs": []
    },
    {
      "cell_type": "code",
      "metadata": {
        "ExecuteTime": {
          "end_time": "2019-11-27T20:35:59.870747Z",
          "start_time": "2019-11-27T20:35:59.863903Z"
        },
        "id": "0aW8EuhZ2Cvw"
      },
      "source": [
        "v.ndim"
      ],
      "execution_count": null,
      "outputs": []
    },
    {
      "cell_type": "code",
      "metadata": {
        "ExecuteTime": {
          "end_time": "2019-11-27T20:36:01.985561Z",
          "start_time": "2019-11-27T20:36:01.978350Z"
        },
        "scrolled": true,
        "id": "eLM-LpVX2Cv2"
      },
      "source": [
        "v.dtype"
      ],
      "execution_count": null,
      "outputs": []
    },
    {
      "cell_type": "code",
      "metadata": {
        "ExecuteTime": {
          "end_time": "2019-11-27T20:36:51.253547Z",
          "start_time": "2019-11-27T20:36:51.246868Z"
        },
        "id": "3W1m_lfm2Cv7"
      },
      "source": [
        "w = np.array([1., 2, 3, 4], dtype='int')\n",
        "w"
      ],
      "execution_count": null,
      "outputs": []
    },
    {
      "cell_type": "code",
      "metadata": {
        "ExecuteTime": {
          "end_time": "2019-11-27T20:36:51.394055Z",
          "start_time": "2019-11-27T20:36:51.389042Z"
        },
        "id": "MsmP96A92Cv-"
      },
      "source": [
        "w.dtype"
      ],
      "execution_count": null,
      "outputs": []
    },
    {
      "cell_type": "code",
      "metadata": {
        "ExecuteTime": {
          "end_time": "2019-11-27T20:36:52.731909Z",
          "start_time": "2019-11-27T20:36:52.727418Z"
        },
        "id": "DlsNkL2V2CwB"
      },
      "source": [
        "a = np.arange(100, dtype=np.uint16)"
      ],
      "execution_count": null,
      "outputs": []
    },
    {
      "cell_type": "code",
      "metadata": {
        "ExecuteTime": {
          "end_time": "2019-11-27T20:36:52.851577Z",
          "start_time": "2019-11-27T20:36:52.845327Z"
        },
        "id": "H4i_02gE2CwE"
      },
      "source": [
        "a"
      ],
      "execution_count": null,
      "outputs": []
    },
    {
      "cell_type": "code",
      "metadata": {
        "ExecuteTime": {
          "end_time": "2019-11-27T20:36:54.319605Z",
          "start_time": "2019-11-27T20:36:54.313098Z"
        },
        "scrolled": true,
        "id": "PIsZZ2-M2CwK"
      },
      "source": [
        "-3 * a ** 2"
      ],
      "execution_count": null,
      "outputs": []
    },
    {
      "cell_type": "code",
      "metadata": {
        "ExecuteTime": {
          "end_time": "2019-11-27T20:36:57.241063Z",
          "start_time": "2019-11-27T20:36:57.235414Z"
        },
        "scrolled": true,
        "id": "DL5GM8Ud2CwM"
      },
      "source": [
        "a"
      ],
      "execution_count": null,
      "outputs": []
    },
    {
      "cell_type": "code",
      "metadata": {
        "ExecuteTime": {
          "end_time": "2019-11-27T20:36:57.453367Z",
          "start_time": "2019-11-27T20:36:57.440110Z"
        },
        "id": "kTsH0UeC2CwO"
      },
      "source": [
        "b = a + 1\n",
        "b"
      ],
      "execution_count": null,
      "outputs": []
    },
    {
      "cell_type": "code",
      "metadata": {
        "ExecuteTime": {
          "end_time": "2019-11-27T20:36:57.817298Z",
          "start_time": "2019-11-27T20:36:57.812071Z"
        },
        "id": "WAz1jfrh2CwR"
      },
      "source": [
        "a is b"
      ],
      "execution_count": null,
      "outputs": []
    },
    {
      "cell_type": "code",
      "metadata": {
        "ExecuteTime": {
          "end_time": "2019-11-27T20:36:59.144366Z",
          "start_time": "2019-11-27T20:36:59.135753Z"
        },
        "id": "Fj6w4lvf2CwT"
      },
      "source": [
        "a += 1"
      ],
      "execution_count": null,
      "outputs": []
    },
    {
      "cell_type": "code",
      "metadata": {
        "ExecuteTime": {
          "end_time": "2019-11-27T20:36:59.975866Z",
          "start_time": "2019-11-27T20:36:59.970192Z"
        },
        "id": "7Kw-9g0f2CwV"
      },
      "source": [
        "a"
      ],
      "execution_count": null,
      "outputs": []
    },
    {
      "cell_type": "markdown",
      "metadata": {
        "id": "Mb9rsafn2CwX"
      },
      "source": [
        "**Warning**\n",
        "\n",
        "Beware of the dimensions: a 1D array is not the same as a 2D array with 1 column"
      ]
    },
    {
      "cell_type": "code",
      "metadata": {
        "ExecuteTime": {
          "end_time": "2019-11-27T20:37:01.587218Z",
          "start_time": "2019-11-27T20:37:01.581752Z"
        },
        "id": "tP5ad3oq2CwY"
      },
      "source": [
        "a1 = np.array([1, 2, 3])\n",
        "print(a1, a1.shape, a1.ndim)"
      ],
      "execution_count": null,
      "outputs": []
    },
    {
      "cell_type": "code",
      "metadata": {
        "ExecuteTime": {
          "end_time": "2019-11-27T20:37:01.716777Z",
          "start_time": "2019-11-27T20:37:01.710303Z"
        },
        "id": "5DXWQdwL2Cwa"
      },
      "source": [
        "a2 = np.array([[1, 2, 3]]).T\n",
        "print(a2, a2.shape, a2.ndim)"
      ],
      "execution_count": null,
      "outputs": []
    },
    {
      "cell_type": "code",
      "metadata": {
        "ExecuteTime": {
          "end_time": "2019-11-27T20:37:01.987610Z",
          "start_time": "2019-11-27T20:37:01.975923Z"
        },
        "scrolled": true,
        "id": "Q7LWAoRt2Cwc"
      },
      "source": [
        "a2.dot(a1)"
      ],
      "execution_count": null,
      "outputs": []
    },
    {
      "cell_type": "code",
      "metadata": {
        "ExecuteTime": {
          "end_time": "2019-11-27T20:37:25.105409Z",
          "start_time": "2019-11-27T20:37:25.098561Z"
        },
        "id": "ED9xuEOU2Cwe"
      },
      "source": [
        "# Declare a 2D array using a nested list as the argument\n",
        "M = np.array([[1,2], [3,4], [3.14, -9.17]])\n",
        "M"
      ],
      "execution_count": null,
      "outputs": []
    },
    {
      "cell_type": "code",
      "metadata": {
        "ExecuteTime": {
          "end_time": "2019-11-27T20:37:25.238853Z",
          "start_time": "2019-11-27T20:37:25.233229Z"
        },
        "id": "ez47BIAj2Cwg"
      },
      "source": [
        "M.shape"
      ],
      "execution_count": null,
      "outputs": []
    },
    {
      "cell_type": "code",
      "metadata": {
        "ExecuteTime": {
          "end_time": "2019-11-27T20:37:25.386420Z",
          "start_time": "2019-11-27T20:37:25.372909Z"
        },
        "scrolled": true,
        "id": "xOLReoCl2Cwj"
      },
      "source": [
        "M.size"
      ],
      "execution_count": null,
      "outputs": []
    },
    {
      "cell_type": "code",
      "metadata": {
        "ExecuteTime": {
          "end_time": "2019-11-27T20:37:25.505382Z",
          "start_time": "2019-11-27T20:37:25.497508Z"
        },
        "scrolled": true,
        "id": "B1G9USxy2Cwl"
      },
      "source": [
        "M.ravel()"
      ],
      "execution_count": null,
      "outputs": []
    },
    {
      "cell_type": "code",
      "metadata": {
        "ExecuteTime": {
          "end_time": "2019-11-27T20:37:26.108783Z",
          "start_time": "2019-11-27T20:37:26.102627Z"
        },
        "id": "BjGU7AOS2Cwn"
      },
      "source": [
        "M.ndim"
      ],
      "execution_count": null,
      "outputs": []
    },
    {
      "cell_type": "code",
      "metadata": {
        "ExecuteTime": {
          "end_time": "2019-11-27T20:37:27.932823Z",
          "start_time": "2019-11-27T20:37:27.922319Z"
        },
        "id": "HnXc4vFB2Cwp"
      },
      "source": [
        "# arguments: start, stop, step\n",
        "x = np.arange(12).reshape(4, 3)\n",
        "x"
      ],
      "execution_count": null,
      "outputs": []
    },
    {
      "cell_type": "code",
      "metadata": {
        "ExecuteTime": {
          "end_time": "2019-11-27T20:37:28.051898Z",
          "start_time": "2019-11-27T20:37:28.044341Z"
        },
        "id": "wobSpHCJ2Cws"
      },
      "source": [
        "np.linspace(0, 10, 50)"
      ],
      "execution_count": null,
      "outputs": []
    },
    {
      "cell_type": "code",
      "metadata": {
        "ExecuteTime": {
          "end_time": "2019-11-27T20:37:28.345933Z",
          "start_time": "2019-11-27T20:37:28.333464Z"
        },
        "id": "o2OLYrj72Cwu"
      },
      "source": [
        "np.logspace(0, 10, 10, base=np.e, dtype=np.int32)"
      ],
      "execution_count": null,
      "outputs": []
    },
    {
      "cell_type": "code",
      "metadata": {
        "ExecuteTime": {
          "end_time": "2019-11-27T20:38:17.333449Z",
          "start_time": "2019-11-27T20:38:17.136473Z"
        },
        "id": "I2nWfhaq2Cwx"
      },
      "source": [
        "%matplotlib inline\n",
        "import matplotlib.pyplot as plt\n",
        "\n",
        "# Random standard Gaussian numbers\n",
        "fig = plt.figure(figsize=(10, 6))\n",
        "wn = np.random.randn(1000)\n",
        "bm = wn.cumsum()\n",
        "\n",
        "plt.plot(bm, lw=3)"
      ],
      "execution_count": null,
      "outputs": []
    },
    {
      "cell_type": "code",
      "metadata": {
        "ExecuteTime": {
          "end_time": "2019-11-27T20:38:21.512165Z",
          "start_time": "2019-11-27T20:38:21.504989Z"
        },
        "id": "lid_AT-V2Cwz"
      },
      "source": [
        "np.diag(np.arange(10))"
      ],
      "execution_count": null,
      "outputs": []
    },
    {
      "cell_type": "code",
      "metadata": {
        "ExecuteTime": {
          "end_time": "2019-11-27T20:38:21.834728Z",
          "start_time": "2019-11-27T20:38:21.824412Z"
        },
        "id": "LbYtrBtV2Cw1"
      },
      "source": [
        "zozo = np.zeros((10, 10))\n",
        "zozo"
      ],
      "execution_count": null,
      "outputs": []
    },
    {
      "cell_type": "code",
      "metadata": {
        "ExecuteTime": {
          "end_time": "2019-11-27T20:38:22.189024Z",
          "start_time": "2019-11-27T20:38:22.184217Z"
        },
        "scrolled": true,
        "id": "aXS8FP_R2Cw3"
      },
      "source": [
        "zozo.shape"
      ],
      "execution_count": null,
      "outputs": []
    },
    {
      "cell_type": "code",
      "metadata": {
        "ExecuteTime": {
          "end_time": "2019-11-27T20:38:24.968120Z",
          "start_time": "2019-11-27T20:38:24.962969Z"
        },
        "scrolled": true,
        "id": "Qf_-aiUt2Cw6"
      },
      "source": [
        "print(M)"
      ],
      "execution_count": null,
      "outputs": []
    },
    {
      "cell_type": "code",
      "metadata": {
        "ExecuteTime": {
          "end_time": "2019-11-27T20:38:25.101901Z",
          "start_time": "2019-11-27T20:38:25.095820Z"
        },
        "scrolled": true,
        "id": "nm9q7kE22Cw8"
      },
      "source": [
        "M[1, 1]"
      ],
      "execution_count": null,
      "outputs": []
    },
    {
      "cell_type": "code",
      "metadata": {
        "ExecuteTime": {
          "end_time": "2019-11-27T20:38:25.469336Z",
          "start_time": "2019-11-27T20:38:25.462781Z"
        },
        "id": "R5VooP0z2Cw-"
      },
      "source": [
        "# assign new value\n",
        "M[0, 0] = 7\n",
        "M[1, :] = -2\n",
        "M"
      ],
      "execution_count": null,
      "outputs": []
    },
    {
      "cell_type": "code",
      "metadata": {
        "ExecuteTime": {
          "end_time": "2019-11-27T20:38:25.765723Z",
          "start_time": "2019-11-27T20:38:25.758329Z"
        },
        "scrolled": true,
        "id": "7nd9Okxa2CxA"
      },
      "source": [
        "# Warning: the next m is a **view** on M. \n",
        "# One again, no copies unless you ask for one!\n",
        "m = M[0, :]\n",
        "m[:] = 42\n",
        "M"
      ],
      "execution_count": null,
      "outputs": []
    },
    {
      "cell_type": "markdown",
      "metadata": {
        "id": "PVBqDLV12CxC"
      },
      "source": [
        "# Slicing"
      ]
    },
    {
      "cell_type": "code",
      "metadata": {
        "ExecuteTime": {
          "end_time": "2019-11-27T20:38:42.181082Z",
          "start_time": "2019-11-27T20:38:42.167535Z"
        },
        "scrolled": false,
        "id": "15qH1MBt2CxC"
      },
      "source": [
        "# slicing works just like with anything else (lists, etc.)\n",
        "A = np.array([1, 2, 3, 4, 5])\n",
        "print(A)\n",
        "print(A[::-1])\n",
        "print(A[::2])\n",
        "print(A[:-1])"
      ],
      "execution_count": null,
      "outputs": []
    },
    {
      "cell_type": "code",
      "metadata": {
        "ExecuteTime": {
          "end_time": "2019-11-27T20:38:42.355077Z",
          "start_time": "2019-11-27T20:38:42.341050Z"
        },
        "id": "kkk5eYfe2CxE"
      },
      "source": [
        "A = np.array([[n + m * 10 for n in range(5)] for m in range(5)])\n",
        "A"
      ],
      "execution_count": null,
      "outputs": []
    },
    {
      "cell_type": "code",
      "metadata": {
        "ExecuteTime": {
          "end_time": "2019-11-27T20:38:43.514575Z",
          "start_time": "2019-11-27T20:38:43.503675Z"
        },
        "id": "LWPGoMC_2CxG"
      },
      "source": [
        "print(A[1:4])"
      ],
      "execution_count": null,
      "outputs": []
    },
    {
      "cell_type": "code",
      "metadata": {
        "ExecuteTime": {
          "end_time": "2019-11-27T20:38:43.667320Z",
          "start_time": "2019-11-27T20:38:43.659715Z"
        },
        "id": "3YrZX1b22CxI"
      },
      "source": [
        "print(A[1:4, :])"
      ],
      "execution_count": null,
      "outputs": []
    },
    {
      "cell_type": "code",
      "metadata": {
        "ExecuteTime": {
          "end_time": "2019-11-27T20:38:43.820635Z",
          "start_time": "2019-11-27T20:38:43.812686Z"
        },
        "id": "OGxVJd1V2CxK"
      },
      "source": [
        "A[1]"
      ],
      "execution_count": null,
      "outputs": []
    },
    {
      "cell_type": "code",
      "metadata": {
        "ExecuteTime": {
          "end_time": "2019-11-27T20:38:43.973426Z",
          "start_time": "2019-11-27T20:38:43.965942Z"
        },
        "id": "op5cnD-l2CxM"
      },
      "source": [
        "A[:, 1]"
      ],
      "execution_count": null,
      "outputs": []
    },
    {
      "cell_type": "code",
      "metadata": {
        "ExecuteTime": {
          "end_time": "2019-11-27T20:38:44.182768Z",
          "start_time": "2019-11-27T20:38:44.173701Z"
        },
        "id": "l34e-7sB2CxO"
      },
      "source": [
        "A[:, ::-1]"
      ],
      "execution_count": null,
      "outputs": []
    },
    {
      "cell_type": "code",
      "metadata": {
        "ExecuteTime": {
          "end_time": "2019-11-27T20:38:45.484228Z",
          "start_time": "2019-11-27T20:38:45.475497Z"
        },
        "id": "5C2fHF3o2CxS"
      },
      "source": [
        "print(A)"
      ],
      "execution_count": null,
      "outputs": []
    },
    {
      "cell_type": "code",
      "metadata": {
        "ExecuteTime": {
          "end_time": "2019-11-27T20:38:45.628690Z",
          "start_time": "2019-11-27T20:38:45.621910Z"
        },
        "id": "Mo71IQhs2CxU"
      },
      "source": [
        "row_indices = [1, 2, 4]\n",
        "print(A[row_indices])"
      ],
      "execution_count": null,
      "outputs": []
    },
    {
      "cell_type": "code",
      "metadata": {
        "ExecuteTime": {
          "end_time": "2019-11-27T20:38:45.809047Z",
          "start_time": "2019-11-27T20:38:45.801781Z"
        },
        "id": "CdUE6g3D2CxW"
      },
      "source": [
        "A[:, row_indices]"
      ],
      "execution_count": null,
      "outputs": []
    },
    {
      "cell_type": "markdown",
      "metadata": {
        "id": "XcHinZt32CxZ"
      },
      "source": [
        "Another way is through masking with an array of `bool`s"
      ]
    },
    {
      "cell_type": "code",
      "metadata": {
        "ExecuteTime": {
          "end_time": "2019-11-27T20:38:52.375124Z",
          "start_time": "2019-11-27T20:38:52.362196Z"
        },
        "id": "GYP6kNTL2CxZ"
      },
      "source": [
        "# index masking\n",
        "B = np.arange(5)\n",
        "row_mask = np.array([True, False, True, False, False])\n",
        "print(B)\n",
        "print(B[row_mask])"
      ],
      "execution_count": null,
      "outputs": []
    },
    {
      "cell_type": "markdown",
      "metadata": {
        "id": "178fOvC12Cxb"
      },
      "source": [
        "# Copies\n",
        "\n",
        "Don't forget that `python` **does not make copies unless told to do so** (same as with any mutable type)\n",
        "\n",
        "If you are not careful enough, this typically leads to a **lot of errors** and to being fired !!"
      ]
    },
    {
      "cell_type": "code",
      "metadata": {
        "ExecuteTime": {
          "end_time": "2019-11-27T20:38:57.985763Z",
          "start_time": "2019-11-27T20:38:57.976600Z"
        },
        "id": "5AOj7Waf2Cxb"
      },
      "source": [
        "x = np.arange(6)\n",
        "y = x\n",
        "x[2] = 123\n",
        "y"
      ],
      "execution_count": null,
      "outputs": []
    },
    {
      "cell_type": "code",
      "metadata": {
        "ExecuteTime": {
          "end_time": "2019-11-27T20:38:58.678556Z",
          "start_time": "2019-11-27T20:38:58.672089Z"
        },
        "id": "1efP-2cV2Cxe"
      },
      "source": [
        "x is y"
      ],
      "execution_count": null,
      "outputs": []
    },
    {
      "cell_type": "code",
      "metadata": {
        "ExecuteTime": {
          "end_time": "2019-11-27T20:39:04.314289Z",
          "start_time": "2019-11-27T20:39:04.306908Z"
        },
        "id": "Cs52r3bD2Cxg"
      },
      "source": [
        "# A real copy\n",
        "y = x.copy()"
      ],
      "execution_count": null,
      "outputs": []
    },
    {
      "cell_type": "code",
      "metadata": {
        "ExecuteTime": {
          "end_time": "2019-11-27T20:39:04.430059Z",
          "start_time": "2019-11-27T20:39:04.425751Z"
        },
        "id": "8dniMG5M2Cxi"
      },
      "source": [
        "# Or equivalently (but the one above is better...)\n",
        "y = np.copy(x)"
      ],
      "execution_count": null,
      "outputs": []
    },
    {
      "cell_type": "code",
      "metadata": {
        "ExecuteTime": {
          "end_time": "2019-11-27T20:39:09.441506Z",
          "start_time": "2019-11-27T20:39:09.435620Z"
        },
        "id": "hqwYYufz2Cxk"
      },
      "source": [
        "x[0] = -12\n",
        "print(x, y)"
      ],
      "execution_count": null,
      "outputs": []
    },
    {
      "cell_type": "code",
      "metadata": {
        "ExecuteTime": {
          "end_time": "2019-11-27T20:39:10.139744Z",
          "start_time": "2019-11-27T20:39:10.132981Z"
        },
        "id": "tehZJdVZ2Cxm"
      },
      "source": [
        "x is y"
      ],
      "execution_count": null,
      "outputs": []
    },
    {
      "cell_type": "markdown",
      "metadata": {
        "id": "lrq6qSPQ2Cxo"
      },
      "source": [
        "To put values of x in y (copy values into an **existing** array) use"
      ]
    },
    {
      "cell_type": "code",
      "metadata": {
        "ExecuteTime": {
          "end_time": "2019-11-27T20:33:05.970732Z",
          "start_time": "2019-11-27T20:33:05.966248Z"
        },
        "id": "2VKmaBnP2Cxo"
      },
      "source": [
        "y[:] = x"
      ],
      "execution_count": null,
      "outputs": []
    },
    {
      "cell_type": "markdown",
      "metadata": {
        "id": "JDrEMndU2Cxt"
      },
      "source": [
        "**Final warning**\n",
        "\n",
        "In the next line you copy the values of `x` into an existing array `y` (of same size...)"
      ]
    },
    {
      "cell_type": "code",
      "metadata": {
        "ExecuteTime": {
          "end_time": "2019-11-27T20:39:16.310364Z",
          "start_time": "2019-11-27T20:39:16.305969Z"
        },
        "id": "zmxoTMlJ2Cxu"
      },
      "source": [
        "y[:] = x"
      ],
      "execution_count": null,
      "outputs": []
    },
    {
      "cell_type": "markdown",
      "metadata": {
        "id": "h2GFbnQ52Cxw"
      },
      "source": [
        "While in the next line, you give another name `y` to the object with name `x`\n",
        "\n",
        "\n",
        "(and actually, you should **never, never, never** write something like this)"
      ]
    },
    {
      "cell_type": "code",
      "metadata": {
        "ExecuteTime": {
          "end_time": "2019-11-27T20:39:18.391279Z",
          "start_time": "2019-11-27T20:39:18.387843Z"
        },
        "id": "-1y8b09Z2Cxw"
      },
      "source": [
        "y = x"
      ],
      "execution_count": null,
      "outputs": []
    },
    {
      "cell_type": "markdown",
      "metadata": {
        "id": "j9SZUL402Cxy"
      },
      "source": [
        "# Miscellaneous stuff"
      ]
    },
    {
      "cell_type": "markdown",
      "metadata": {
        "id": "hz-wLZ-F2Cxz"
      },
      "source": [
        "## Non-numerical values\n",
        "\n",
        "A `numpy` array can contain other things than numeric types"
      ]
    },
    {
      "cell_type": "code",
      "metadata": {
        "id": "Wzre3QcG2Cxz"
      },
      "source": [
        "arr = np.array(['ou', 'la', 'la', \"c'est\", 'dur', 'python'])"
      ],
      "execution_count": null,
      "outputs": []
    },
    {
      "cell_type": "code",
      "metadata": {
        "scrolled": true,
        "id": "rsKcFu6t2Cx0"
      },
      "source": [
        "arr.sum()"
      ],
      "execution_count": null,
      "outputs": []
    },
    {
      "cell_type": "code",
      "metadata": {
        "id": "0RsReNV72Cx2"
      },
      "source": [
        "arr.dtype"
      ],
      "execution_count": null,
      "outputs": []
    },
    {
      "cell_type": "markdown",
      "metadata": {
        "id": "7Qb4R_5J2Cx5"
      },
      "source": [
        "## A matrix is no 2D array in `numpy`\n",
        "\n",
        "We've been using only `array` or `ndarray` objects for now\n",
        "\n",
        "The is another type: the `matrix` type\n",
        "\n",
        "In summary: just **don't use it** (IMO) and stick with arrays"
      ]
    },
    {
      "cell_type": "code",
      "metadata": {
        "ExecuteTime": {
          "end_time": "2019-11-27T20:42:01.060529Z",
          "start_time": "2019-11-27T20:42:01.055629Z"
        },
        "id": "svz8LrE92Cx5"
      },
      "source": [
        "# Matrix VS array objects in numpy\n",
        "m1 = np.matrix(np.arange(3))\n",
        "m2 = np.matrix(np.arange(3))"
      ],
      "execution_count": null,
      "outputs": []
    },
    {
      "cell_type": "code",
      "metadata": {
        "ExecuteTime": {
          "end_time": "2019-11-27T20:42:01.814826Z",
          "start_time": "2019-11-27T20:42:01.810133Z"
        },
        "id": "RFXLGATB2Cx8"
      },
      "source": [
        "a1 = np.arange(3)\n",
        "a2 = np.arange(3)"
      ],
      "execution_count": null,
      "outputs": []
    },
    {
      "cell_type": "code",
      "metadata": {
        "ExecuteTime": {
          "end_time": "2019-11-27T20:42:04.675127Z",
          "start_time": "2019-11-27T20:42:04.656899Z"
        },
        "scrolled": true,
        "id": "NhKP2_m02Cx-"
      },
      "source": [
        "m1 * m2"
      ],
      "execution_count": null,
      "outputs": []
    },
    {
      "cell_type": "code",
      "metadata": {
        "ExecuteTime": {
          "end_time": "2019-11-27T20:42:05.842883Z",
          "start_time": "2019-11-27T20:42:05.835673Z"
        },
        "id": "1gxW__sz2CyF"
      },
      "source": [
        "a1 * a2"
      ],
      "execution_count": null,
      "outputs": []
    },
    {
      "cell_type": "markdown",
      "metadata": {
        "id": "D5RXuWCX2CyH"
      },
      "source": [
        "## Sparse matrices"
      ]
    },
    {
      "cell_type": "code",
      "metadata": {
        "ExecuteTime": {
          "end_time": "2019-11-27T20:42:08.608299Z",
          "start_time": "2019-11-27T20:42:08.587257Z"
        },
        "id": "S2MMXB_Z2CyI"
      },
      "source": [
        "from scipy.sparse import csc_matrix, csr_matrix, coo_matrix\n",
        "\n",
        "probs = np.full(fill_value=1/4, shape=(4,))\n",
        "X = np.random.multinomial(n=2, pvals=probs, size=4)\n",
        "X"
      ],
      "execution_count": null,
      "outputs": []
    },
    {
      "cell_type": "code",
      "metadata": {
        "ExecuteTime": {
          "end_time": "2019-11-27T20:42:10.931430Z",
          "start_time": "2019-11-27T20:42:10.923279Z"
        },
        "scrolled": true,
        "id": "Ms9xk_SZ2CyK"
      },
      "source": [
        "X_coo = coo_matrix(X)\n",
        "print(X_coo)\n",
        "X_coo"
      ],
      "execution_count": null,
      "outputs": []
    },
    {
      "cell_type": "code",
      "metadata": {
        "ExecuteTime": {
          "end_time": "2019-11-27T20:42:12.871338Z",
          "start_time": "2019-11-27T20:42:12.864293Z"
        },
        "id": "IsUGbKoF2CyL"
      },
      "source": [
        "X_coo.nnz"
      ],
      "execution_count": null,
      "outputs": []
    },
    {
      "cell_type": "code",
      "metadata": {
        "ExecuteTime": {
          "end_time": "2019-11-27T20:42:13.240425Z",
          "start_time": "2019-11-27T20:42:13.231624Z"
        },
        "id": "fSYV13HP2CyO"
      },
      "source": [
        "print(X, end='\\n----\\n')\n",
        "print(X_coo.data, end='\\n----\\n')\n",
        "print(X_coo.row, end='\\n----\\n')\n",
        "print(X_coo.col, end='\\n----\\n')"
      ],
      "execution_count": null,
      "outputs": []
    },
    {
      "cell_type": "markdown",
      "metadata": {
        "id": "QSdhYiTi2CyP"
      },
      "source": [
        "There is also\n",
        "\n",
        "- `csr_matrix`: sparse rows format \n",
        "- `csc_matrix`: sparse columns format\n",
        "\n",
        "Sparse rows is often used for machine learning: sparse features vectors\n",
        "\n",
        "But sparse column format useful as well (e.g. coordinate gradient descent)"
      ]
    },
    {
      "cell_type": "markdown",
      "metadata": {
        "id": "SN5Phsp42CyP"
      },
      "source": [
        "## Bored of seing too many decimals?"
      ]
    },
    {
      "cell_type": "code",
      "metadata": {
        "ExecuteTime": {
          "end_time": "2019-11-27T20:42:28.209446Z",
          "start_time": "2019-11-27T20:42:28.200651Z"
        },
        "id": "9llVF5Be2CyP"
      },
      "source": [
        "X = np.random.randn(5, 5)\n",
        "X"
      ],
      "execution_count": null,
      "outputs": []
    },
    {
      "cell_type": "code",
      "metadata": {
        "ExecuteTime": {
          "end_time": "2019-11-27T20:42:28.912792Z",
          "start_time": "2019-11-27T20:42:28.902862Z"
        },
        "id": "qkCSMG3e2CyQ"
      },
      "source": [
        "# All number displayed by numpy (in the current kernel) are with 3 decimals max\n",
        "np.set_printoptions(precision=3)\n",
        "print(X)\n",
        "np.set_printoptions(precision=8)"
      ],
      "execution_count": null,
      "outputs": []
    },
    {
      "cell_type": "markdown",
      "metadata": {
        "id": "QrM8yFzj2CyS"
      },
      "source": [
        "## Not limited to 2D!\n",
        "\n",
        "`numpy` arrays can have any number of dimension (hence the name `ndarray`)"
      ]
    },
    {
      "cell_type": "code",
      "metadata": {
        "ExecuteTime": {
          "end_time": "2019-11-27T20:42:34.156029Z",
          "start_time": "2019-11-27T20:42:34.145098Z"
        },
        "id": "KlGdawJw2CyS"
      },
      "source": [
        "X = np.arange(18).reshape(3, 2, 3)\n",
        "X"
      ],
      "execution_count": null,
      "outputs": []
    },
    {
      "cell_type": "code",
      "metadata": {
        "ExecuteTime": {
          "end_time": "2019-11-27T20:42:34.864530Z",
          "start_time": "2019-11-27T20:42:34.858342Z"
        },
        "id": "TMdgAVBP2CyT"
      },
      "source": [
        "X.shape"
      ],
      "execution_count": null,
      "outputs": []
    },
    {
      "cell_type": "code",
      "metadata": {
        "ExecuteTime": {
          "end_time": "2019-11-27T20:42:35.337372Z",
          "start_time": "2019-11-27T20:42:35.329825Z"
        },
        "id": "2FA5Z48K2CyX"
      },
      "source": [
        "X.ndim"
      ],
      "execution_count": null,
      "outputs": []
    },
    {
      "cell_type": "markdown",
      "metadata": {
        "id": "DoSUx0kR2CyZ"
      },
      "source": [
        "# Aggregations and statistics"
      ]
    },
    {
      "cell_type": "code",
      "metadata": {
        "ExecuteTime": {
          "end_time": "2019-11-27T20:42:41.137016Z",
          "start_time": "2019-11-27T20:42:41.129991Z"
        },
        "scrolled": true,
        "id": "uR6N86Gw2CyZ"
      },
      "source": [
        "A = np.arange(42).reshape(7, 6)\n",
        "A"
      ],
      "execution_count": null,
      "outputs": []
    },
    {
      "cell_type": "code",
      "metadata": {
        "ExecuteTime": {
          "end_time": "2019-11-27T20:42:41.547112Z",
          "start_time": "2019-11-27T20:42:41.541150Z"
        },
        "id": "0l41MR4j2Cyc"
      },
      "source": [
        "A.sum()"
      ],
      "execution_count": null,
      "outputs": []
    },
    {
      "cell_type": "code",
      "metadata": {
        "ExecuteTime": {
          "end_time": "2019-11-27T20:42:41.703342Z",
          "start_time": "2019-11-27T20:42:41.697219Z"
        },
        "id": "big_spVh2Cye"
      },
      "source": [
        "A[:, 3].mean()"
      ],
      "execution_count": null,
      "outputs": []
    },
    {
      "cell_type": "code",
      "metadata": {
        "ExecuteTime": {
          "end_time": "2019-11-27T20:42:41.848985Z",
          "start_time": "2019-11-27T20:42:41.840056Z"
        },
        "id": "wsjwQeXc2Cyg"
      },
      "source": [
        "A.mean(axis=0)"
      ],
      "execution_count": null,
      "outputs": []
    },
    {
      "cell_type": "code",
      "metadata": {
        "ExecuteTime": {
          "end_time": "2019-11-27T20:42:42.233644Z",
          "start_time": "2019-11-27T20:42:42.225591Z"
        },
        "id": "9o_eS8Sx2Cyk"
      },
      "source": [
        "A.mean(axis=1)"
      ],
      "execution_count": null,
      "outputs": []
    },
    {
      "cell_type": "code",
      "metadata": {
        "ExecuteTime": {
          "end_time": "2019-11-27T20:42:44.297621Z",
          "start_time": "2019-11-27T20:42:44.289895Z"
        },
        "scrolled": true,
        "id": "2DY2FUFK2Cym"
      },
      "source": [
        "A[:,3].std(), A[:,3].var()"
      ],
      "execution_count": null,
      "outputs": []
    },
    {
      "cell_type": "code",
      "metadata": {
        "ExecuteTime": {
          "end_time": "2019-11-27T20:42:44.428014Z",
          "start_time": "2019-11-27T20:42:44.420447Z"
        },
        "id": "3uyfVPZk2Cyo"
      },
      "source": [
        "A[:,3].min(), A[:,3].max()"
      ],
      "execution_count": null,
      "outputs": []
    },
    {
      "cell_type": "code",
      "metadata": {
        "ExecuteTime": {
          "end_time": "2019-11-27T20:42:44.572053Z",
          "start_time": "2019-11-27T20:42:44.564708Z"
        },
        "id": "6bxVcNcF2Cyq"
      },
      "source": [
        "A.cumsum(axis=1)"
      ],
      "execution_count": null,
      "outputs": []
    },
    {
      "cell_type": "code",
      "metadata": {
        "ExecuteTime": {
          "end_time": "2019-11-27T20:42:45.052730Z",
          "start_time": "2019-11-27T20:42:45.045387Z"
        },
        "scrolled": true,
        "id": "X-6IwcTd2Cyr"
      },
      "source": [
        "# sum of diagonal\n",
        "A.trace()"
      ],
      "execution_count": null,
      "outputs": []
    },
    {
      "cell_type": "markdown",
      "metadata": {
        "id": "Ef4PYFPF2Cys"
      },
      "source": [
        "# Linear Algebra"
      ]
    },
    {
      "cell_type": "code",
      "metadata": {
        "ExecuteTime": {
          "end_time": "2019-11-27T20:42:47.878127Z",
          "start_time": "2019-11-27T20:42:47.869286Z"
        },
        "id": "AUk3dt8W2Cyt"
      },
      "source": [
        "A = np.arange(30).reshape(6, 5)\n",
        "v1 = np.arange(0, 5)\n",
        "v2 = np.arange(5, 10)"
      ],
      "execution_count": null,
      "outputs": []
    },
    {
      "cell_type": "code",
      "metadata": {
        "ExecuteTime": {
          "end_time": "2019-11-27T20:42:48.012331Z",
          "start_time": "2019-11-27T20:42:48.001716Z"
        },
        "id": "J1FkcNyz2Cyu"
      },
      "source": [
        "v1"
      ],
      "execution_count": null,
      "outputs": []
    },
    {
      "cell_type": "code",
      "metadata": {
        "ExecuteTime": {
          "end_time": "2019-11-27T20:42:48.145758Z",
          "start_time": "2019-11-27T20:42:48.138771Z"
        },
        "id": "8tEE1BDm2Cyw"
      },
      "source": [
        "v2"
      ],
      "execution_count": null,
      "outputs": []
    },
    {
      "cell_type": "code",
      "metadata": {
        "ExecuteTime": {
          "end_time": "2019-11-27T20:42:48.996769Z",
          "start_time": "2019-11-27T20:42:48.990067Z"
        },
        "id": "eQna4gYl2Cyy"
      },
      "source": [
        "v1 * v2"
      ],
      "execution_count": null,
      "outputs": []
    },
    {
      "cell_type": "markdown",
      "metadata": {
        "id": "zJJ5Vdlz2Cy0"
      },
      "source": [
        "## Inner products"
      ]
    },
    {
      "cell_type": "code",
      "metadata": {
        "ExecuteTime": {
          "end_time": "2019-11-27T20:42:50.528928Z",
          "start_time": "2019-11-27T20:42:50.520594Z"
        },
        "id": "7jabHtGJ2Cy0"
      },
      "source": [
        "# Inner product between vectors\n",
        "print(v1.dot(v2))\n",
        "\n",
        "# You can use also (but first solution is better)\n",
        "print(np.dot(v1, v2))"
      ],
      "execution_count": null,
      "outputs": []
    },
    {
      "cell_type": "code",
      "metadata": {
        "ExecuteTime": {
          "end_time": "2019-11-27T20:42:50.651267Z",
          "start_time": "2019-11-27T20:42:50.644036Z"
        },
        "scrolled": true,
        "id": "OwCMVTvN2Cy1"
      },
      "source": [
        "A, v1"
      ],
      "execution_count": null,
      "outputs": []
    },
    {
      "cell_type": "code",
      "metadata": {
        "ExecuteTime": {
          "end_time": "2019-11-27T20:42:51.120638Z",
          "start_time": "2019-11-27T20:42:51.113845Z"
        },
        "id": "c9VapJJq2Cy3"
      },
      "source": [
        "A.shape, v1.shape"
      ],
      "execution_count": null,
      "outputs": []
    },
    {
      "cell_type": "code",
      "metadata": {
        "ExecuteTime": {
          "end_time": "2019-11-27T20:42:54.056317Z",
          "start_time": "2019-11-27T20:42:54.048854Z"
        },
        "id": "kLTv16Nv2Cy4"
      },
      "source": [
        "# Matrix-vector inner product\n",
        "A.dot(v1)"
      ],
      "execution_count": null,
      "outputs": []
    },
    {
      "cell_type": "code",
      "metadata": {
        "ExecuteTime": {
          "end_time": "2019-11-27T20:43:00.007296Z",
          "start_time": "2019-11-27T20:42:59.999612Z"
        },
        "scrolled": true,
        "id": "xg_e37Dx2Cy5"
      },
      "source": [
        "# Transpose\n",
        "A.T"
      ],
      "execution_count": null,
      "outputs": []
    },
    {
      "cell_type": "code",
      "metadata": {
        "ExecuteTime": {
          "end_time": "2019-11-27T20:43:00.438247Z",
          "start_time": "2019-11-27T20:43:00.432157Z"
        },
        "scrolled": true,
        "id": "gBdg47LI2Cy7"
      },
      "source": [
        "print(v1)\n",
        "# Inline operations (same for *=, /=, -=)\n",
        "v1 += 2"
      ],
      "execution_count": null,
      "outputs": []
    },
    {
      "cell_type": "markdown",
      "metadata": {
        "id": "x3irDJhS2Cy9"
      },
      "source": [
        "## Linear systems"
      ]
    },
    {
      "cell_type": "code",
      "metadata": {
        "ExecuteTime": {
          "end_time": "2019-11-27T20:43:03.001550Z",
          "start_time": "2019-11-27T20:43:02.993057Z"
        },
        "scrolled": false,
        "id": "YNVZytq-2Cy9"
      },
      "source": [
        "A = np.array([[1,2,3], [4,5,6], [7,8,9]])\n",
        "b = np.array([1,2,3])\n",
        "print(A, b, sep=2 * '\\n')"
      ],
      "execution_count": null,
      "outputs": []
    },
    {
      "cell_type": "code",
      "metadata": {
        "ExecuteTime": {
          "end_time": "2019-11-27T20:43:03.154836Z",
          "start_time": "2019-11-27T20:43:03.145163Z"
        },
        "id": "7iRruY-B2Cy_"
      },
      "source": [
        "# solve a system of linear equations\n",
        "x = np.linalg.solve(A, b)\n",
        "x"
      ],
      "execution_count": null,
      "outputs": []
    },
    {
      "cell_type": "code",
      "metadata": {
        "ExecuteTime": {
          "end_time": "2019-11-27T20:43:03.516892Z",
          "start_time": "2019-11-27T20:43:03.504741Z"
        },
        "id": "1rMPMsDM2CzA"
      },
      "source": [
        "A.dot(x)"
      ],
      "execution_count": null,
      "outputs": []
    },
    {
      "cell_type": "markdown",
      "metadata": {
        "id": "hQ0UAMM02CzB"
      },
      "source": [
        "## Eigenvalues and eigenvectors"
      ]
    },
    {
      "cell_type": "code",
      "metadata": {
        "ExecuteTime": {
          "end_time": "2019-11-27T20:43:05.777393Z",
          "start_time": "2019-11-27T20:43:05.765809Z"
        },
        "id": "nS2MnD_R2CzB"
      },
      "source": [
        "A = np.random.rand(3,3)\n",
        "B = np.random.rand(3,3)\n",
        "\n",
        "evals, evecs = np.linalg.eig(A)\n",
        "evals"
      ],
      "execution_count": null,
      "outputs": []
    },
    {
      "cell_type": "code",
      "metadata": {
        "ExecuteTime": {
          "end_time": "2019-11-27T20:43:06.183525Z",
          "start_time": "2019-11-27T20:43:06.176083Z"
        },
        "id": "7ovdzbgc2CzC"
      },
      "source": [
        "evecs"
      ],
      "execution_count": null,
      "outputs": []
    },
    {
      "cell_type": "markdown",
      "metadata": {
        "id": "yX437-os2CzD"
      },
      "source": [
        "### Singular value decomposition (SVD)\n",
        "\n",
        "Decomposes any matrix $A \\in \\mathbb R^{m \\times n}$ as follows:\n",
        "$$\n",
        "A = U S V^\\top\n",
        "$$\n",
        "where \n",
        "- $U$ and $V$ are orthonormal matrices (meaning that $U^\\top U = I$ and $V^\\top V = I$)\n",
        "- $S$ is a diagonal matrix that contains the singular values in decreasing order"
      ]
    },
    {
      "cell_type": "code",
      "metadata": {
        "ExecuteTime": {
          "end_time": "2019-11-27T20:34:48.741829Z",
          "start_time": "2019-11-27T20:34:48.735593Z"
        },
        "scrolled": true,
        "id": "bINueEMB2CzF"
      },
      "source": [
        "print(A)\n",
        "U, S, V = np.linalg.svd(A)"
      ],
      "execution_count": null,
      "outputs": []
    },
    {
      "cell_type": "code",
      "metadata": {
        "ExecuteTime": {
          "end_time": "2019-11-27T20:34:49.946846Z",
          "start_time": "2019-11-27T20:34:49.939477Z"
        },
        "scrolled": false,
        "id": "-Z_Tfv2x2CzI"
      },
      "source": [
        "U.dot(np.diag(S)).dot(V)"
      ],
      "execution_count": null,
      "outputs": []
    },
    {
      "cell_type": "code",
      "metadata": {
        "ExecuteTime": {
          "end_time": "2019-11-27T20:34:50.077469Z",
          "start_time": "2019-11-27T20:34:50.069892Z"
        },
        "id": "7Yv-X33w2CzK"
      },
      "source": [
        "# U and V are indeed orthonormal\n",
        "np.set_printoptions(precision=2)\n",
        "print(U.T.dot(U), V.T.dot(V), sep=2 * '\\n')\n",
        "np.set_printoptions(precision=8)"
      ],
      "execution_count": null,
      "outputs": []
    },
    {
      "cell_type": "markdown",
      "metadata": {
        "id": "FQ8-7UIm2CzN"
      },
      "source": [
        "## Exercice: the racoon SVD\n",
        "\n",
        "- Load the racoon face picture using `scipy.misc.face()`\n",
        "- Visualize the picture\n",
        "- Write a function which reshapes the picture into a 2D array, and computes the best rank-r approximation of it (the prototype of the function is `compute_approx(X, r)`\n",
        "- Display the different approximations for r between 5 and 100"
      ]
    },
    {
      "cell_type": "code",
      "metadata": {
        "ExecuteTime": {
          "end_time": "2019-11-27T20:34:55.986091Z",
          "start_time": "2019-11-27T20:34:55.699667Z"
        },
        "scrolled": true,
        "id": "_d9CkwJQ2CzN"
      },
      "source": [
        "import numpy as np\n",
        "from scipy.misc import face\n",
        "import matplotlib.pyplot as plt\n",
        "%matplotlib inline\n",
        "\n",
        "X = face()\n",
        "plt.imshow(X)\n",
        "_ = plt.axis('off')"
      ],
      "execution_count": null,
      "outputs": []
    },
    {
      "cell_type": "code",
      "metadata": {
        "ExecuteTime": {
          "end_time": "2019-11-27T20:34:56.811990Z",
          "start_time": "2019-11-27T20:34:56.802242Z"
        },
        "id": "_KjRnneS2CzP"
      },
      "source": [
        "def compute_approx(X: np.ndarray, r: int):\n",
        "    \"\"\"Computes the best rank-r approximation of X using SVD.\n",
        "    We expect X to the 3D array corresponding to a color image, that we \n",
        "    reduce to a 2D one to apply SVD (no broadcasting).\n",
        "    \n",
        "    Parameters\n",
        "    ----------\n",
        "    X : `np.ndarray`, shape=(n_rows, n_cols, 3)\n",
        "        The input 3D ndarray\n",
        "    \n",
        "    r : `int`\n",
        "        The desired rank\n",
        "        \n",
        "    Return\n",
        "    ------\n",
        "    output : `np.ndarray`, shape=(n_rows, n_cols, 3)\n",
        "        The best rank-r approximation of X\n",
        "    \"\"\"\n",
        "    n_rows, n_cols, n_channels = X.shape\n",
        "    # Reshape X to a 2D array\n",
        "    X_reshape = X.reshape(n_rows, n_cols * n_channels)\n",
        "    # Compute SVD\n",
        "    U, S, V = np.linalg.svd(X_reshape, full_matrices=False)\n",
        "    # Keep only the top r first singular values\n",
        "    S[r:] = 0\n",
        "    # Compute the approximation\n",
        "    X_reshape_r = U.dot(np.diag(S)).dot(V)\n",
        "    # Put it between 0 and 255 again and cast to integer type\n",
        "    return X_reshape_r.clip(min=0, max=255).astype('int')\\\n",
        "        .reshape(n_rows, n_cols, n_channels)"
      ],
      "execution_count": null,
      "outputs": []
    },
    {
      "cell_type": "code",
      "metadata": {
        "ExecuteTime": {
          "end_time": "2019-11-27T20:35:10.846377Z",
          "start_time": "2019-11-27T20:35:06.383281Z"
        },
        "scrolled": false,
        "id": "9EKBaIOm2CzQ"
      },
      "source": [
        "ranks = [100, 70, 50, 30, 10, 5]\n",
        "n_ranks = len(ranks)\n",
        "for i, r in enumerate(ranks):\n",
        "    X_r = compute_approx(X, r)\n",
        "    # plt.subplot(n_ranks, 1, i + 1)\n",
        "    plt.figure(figsize=(5, 5))\n",
        "    plt.imshow(X_r)\n",
        "    _ = plt.axis('off')\n",
        "    plt.title('Rank %d approximation of the racoon' % r, fontsize=16)\n",
        "    plt.tight_layout()"
      ],
      "execution_count": null,
      "outputs": []
    }
  ]
}