{
  "nbformat": 4,
  "nbformat_minor": 0,
  "metadata": {
    "celltoolbar": "Aucun(e)",
    "kernelspec": {
      "display_name": "Python 3",
      "language": "python",
      "name": "python3"
    },
    "language_info": {
      "codemirror_mode": {
        "name": "ipython",
        "version": 3
      },
      "file_extension": ".py",
      "mimetype": "text/x-python",
      "name": "python",
      "nbconvert_exporter": "python",
      "pygments_lexer": "ipython3",
      "version": "3.7.6"
    },
    "toc": {
      "base_numbering": 1,
      "nav_menu": {},
      "number_sections": true,
      "sideBar": true,
      "skip_h1_title": false,
      "title_cell": "Table of Contents",
      "title_sidebar": "Contents",
      "toc_cell": false,
      "toc_position": {},
      "toc_section_display": true,
      "toc_window_display": false
    },
    "colab": {
      "name": "05 Scipy.ipynb",
      "provenance": [],
      "include_colab_link": true
    }
  },
  "cells": [
    {
      "cell_type": "markdown",
      "metadata": {
        "id": "view-in-github",
        "colab_type": "text"
      },
      "source": [
        "<a href=\"https://colab.research.google.com/github/gsiolas/nn-notebooks/blob/main/05_Scipy.ipynb\" target=\"_parent\"><img src=\"https://colab.research.google.com/assets/colab-badge.svg\" alt=\"Open In Colab\"/></a>"
      ]
    },
    {
      "cell_type": "markdown",
      "metadata": {
        "id": "xNVNTisq2N_D"
      },
      "source": [
        "# Lightspeed introduction to `scipy`"
      ]
    },
    {
      "cell_type": "markdown",
      "metadata": {
        "id": "DOc1GiOG2N_F"
      },
      "source": [
        "![](https://www.fullstackpython.com/img/logos/scipy.png)\n",
        "\n",
        "The `scipy` library is one of the core packages for scientific computing with Python.\n",
        "\n",
        "It provides many user-friendly and efficient numerical routines such as routines for numerical integration and optimization.\n",
        "\n",
        "Library documentation: <a>http://www.scipy.org/</a>"
      ]
    },
    {
      "cell_type": "markdown",
      "metadata": {
        "id": "99pEJYYu2N_G"
      },
      "source": [
        "## Numerical integration"
      ]
    },
    {
      "cell_type": "code",
      "metadata": {
        "ExecuteTime": {
          "end_time": "2020-09-03T08:43:23.001526Z",
          "start_time": "2020-09-03T08:43:22.749121Z"
        },
        "id": "Q93Wf_n32N_H"
      },
      "source": [
        "%matplotlib inline\n",
        "import matplotlib.pyplot as plt\n",
        "import numpy as np"
      ],
      "execution_count": null,
      "outputs": []
    },
    {
      "cell_type": "code",
      "metadata": {
        "ExecuteTime": {
          "end_time": "2020-09-03T08:43:23.226827Z",
          "start_time": "2020-09-03T08:43:23.002863Z"
        },
        "scrolled": false,
        "id": "byYDyMoa2N_M"
      },
      "source": [
        "from scipy.integrate import quad\n",
        "\n",
        "x = np.linspace(-10, 10, 1000)\n",
        "y = np.exp(- x ** 2 / 2)\n",
        "_ = plt.plot(x, y)"
      ],
      "execution_count": null,
      "outputs": []
    },
    {
      "cell_type": "code",
      "metadata": {
        "ExecuteTime": {
          "end_time": "2020-09-03T08:43:23.234430Z",
          "start_time": "2020-09-03T08:43:23.229565Z"
        },
        "id": "4vkLRh8P2N_O"
      },
      "source": [
        "# Integration\n",
        "val, abserr = quad(lambda x: np.exp(-x ** 2 / 2),  -np.inf, np.inf)\n",
        "val, (2 * np.pi) ** 0.5, abserr, "
      ],
      "execution_count": null,
      "outputs": []
    },
    {
      "cell_type": "markdown",
      "metadata": {
        "id": "ypZnIZc92N_V"
      },
      "source": [
        "## Optimization"
      ]
    },
    {
      "cell_type": "code",
      "metadata": {
        "ExecuteTime": {
          "end_time": "2020-09-03T08:43:23.335683Z",
          "start_time": "2020-09-03T08:43:23.236669Z"
        },
        "id": "H4p4Z9x32N_W"
      },
      "source": [
        "def f(x):\n",
        "    return 4*x**3 + (x-2)**2 + x**4\n",
        "\n",
        "x = np.linspace(-5, 3, 100)\n",
        "_ = plt.plot(x, f(x))"
      ],
      "execution_count": null,
      "outputs": []
    },
    {
      "cell_type": "code",
      "metadata": {
        "ExecuteTime": {
          "end_time": "2020-09-03T08:43:23.341408Z",
          "start_time": "2020-09-03T08:43:23.337479Z"
        },
        "id": "fsRO0O962N_a"
      },
      "source": [
        "import scipy as sp\n",
        "\n",
        "x_min = sp.optimize.fmin_bfgs(f, -2)\n",
        "print(x_min)"
      ],
      "execution_count": null,
      "outputs": []
    },
    {
      "cell_type": "code",
      "metadata": {
        "ExecuteTime": {
          "end_time": "2020-09-03T08:43:23.347830Z",
          "start_time": "2020-09-03T08:43:23.343263Z"
        },
        "scrolled": true,
        "id": "y9MKRMc72N_g"
      },
      "source": [
        "x_min = sp.optimize.fmin_bfgs(f, 3)\n",
        "print(x_min)"
      ],
      "execution_count": null,
      "outputs": []
    },
    {
      "cell_type": "markdown",
      "metadata": {
        "id": "EYmGOgGp2N_k"
      },
      "source": [
        "## Statistics"
      ]
    },
    {
      "cell_type": "code",
      "metadata": {
        "ExecuteTime": {
          "end_time": "2020-09-03T08:43:23.697560Z",
          "start_time": "2020-09-03T08:43:23.350059Z"
        },
        "id": "1ECTF2kl2N_l"
      },
      "source": [
        "from scipy import stats\n",
        "\n",
        "Y = stats.norm()\n",
        "x = np.linspace(-5, 5, 100)\n",
        "plt.figure(figsize=(4, 4))\n",
        "plt.subplot(3, 1, 1)\n",
        "plt.plot(x, Y.pdf(x)) # PDF function\n",
        "plt.subplot(3, 1, 2)\n",
        "plt.plot(x, Y.cdf(x)) # CDF function\n",
        "plt.subplot(3, 1, 3)\n",
        "_ = plt.hist(Y.rvs(size=1000), bins=40) # histogram of simulations\n",
        "plt.tight_layout()"
      ],
      "execution_count": null,
      "outputs": []
    },
    {
      "cell_type": "code",
      "metadata": {
        "ExecuteTime": {
          "end_time": "2020-09-03T08:43:23.706983Z",
          "start_time": "2020-09-03T08:43:23.701694Z"
        },
        "id": "HxF2ZMab2N_p"
      },
      "source": [
        "Y.mean(), Y.std(), Y.var()"
      ],
      "execution_count": null,
      "outputs": []
    },
    {
      "cell_type": "code",
      "metadata": {
        "ExecuteTime": {
          "end_time": "2020-09-03T08:43:23.715421Z",
          "start_time": "2020-09-03T08:43:23.710030Z"
        },
        "scrolled": false,
        "id": "7TLrF0pz2N_t"
      },
      "source": [
        "# t-test example\n",
        "t_statistic, p_value = stats.ttest_ind(Y.rvs(size=1000), Y.rvs(size=1000))\n",
        "t_statistic, p_value"
      ],
      "execution_count": null,
      "outputs": []
    },
    {
      "cell_type": "markdown",
      "metadata": {
        "id": "DTO1sveL2N_x"
      },
      "source": [
        "## Exercice. MLE of a Gamma distribution\n",
        "\n",
        "Let us recall that the density of a $\\Gamma(a, \\lambda)$ (Gamma distribution with shape parameter $a > 0$ and intensity $\\lambda > 0$ is given by\n",
        "\n",
        "$$\n",
        "f_{a, \\lambda}(x) = \\frac{\\lambda^a}{\\Gamma(a)} x^{a - 1} e^{-\\lambda x} \\mathbf 1_{x \\geq 0}\n",
        "$$\n",
        "\n",
        "1. Look for this distribution in `scipy` and plot its density function with shape=4.2 and intensity=1.5\n",
        "1. Simulate a i.i.d sample of size $n=2000$ with this distribution\n",
        "1. Write a function which computes the negative log-likelihood of this samples with prototype `neg_log_lik(params)` where `params` is an array of shape `(2,)` containing the scale and intensity\n",
        "1. Use `scipy.optim` to minimize this function. Check that your estimator seems correct. Try to be clever with the initialization"
      ]
    },
    {
      "cell_type": "code",
      "metadata": {
        "ExecuteTime": {
          "end_time": "2020-09-03T08:43:23.720786Z",
          "start_time": "2020-09-03T08:43:23.716890Z"
        },
        "id": "E-7_qX5k2N_y"
      },
      "source": [
        "from scipy.stats import gamma\n",
        "\n",
        "# Shape and intensity parameters\n",
        "a, intensity = 4.2, 1.5\n",
        "\n",
        "# Scale is 1 / intensity\n",
        "G = gamma(a=a, scale=1 / intensity)"
      ],
      "execution_count": null,
      "outputs": []
    },
    {
      "cell_type": "code",
      "metadata": {
        "ExecuteTime": {
          "end_time": "2020-09-03T08:43:23.724810Z",
          "start_time": "2020-09-03T08:43:23.721989Z"
        },
        "scrolled": true,
        "id": "lzZ4hQy12N_0"
      },
      "source": [
        "# Let's check that scale is indeed 1 / intensity\n",
        "G.mean(), a / intensity"
      ],
      "execution_count": null,
      "outputs": []
    },
    {
      "cell_type": "code",
      "metadata": {
        "ExecuteTime": {
          "end_time": "2020-09-03T08:43:24.003196Z",
          "start_time": "2020-09-03T08:43:23.726033Z"
        },
        "id": "imLbkraT2N_2"
      },
      "source": [
        "x = np.linspace(1e-4, 10, 1000)\n",
        "plt.figure(figsize=(6, 6))\n",
        "plt.subplot(3, 1, 1)\n",
        "_ = plt.plot(x, G.pdf(x))\n",
        "plt.subplot(3, 1, 2)\n",
        "_ = plt.plot(x, G.cdf(x))\n",
        "plt.subplot(3, 1, 3)\n",
        "_ = plt.hist(G.rvs(size=2000), bins=25)\n",
        "plt.tight_layout()"
      ],
      "execution_count": null,
      "outputs": []
    },
    {
      "cell_type": "code",
      "metadata": {
        "ExecuteTime": {
          "end_time": "2020-09-03T08:43:24.008001Z",
          "start_time": "2020-09-03T08:43:24.005489Z"
        },
        "scrolled": true,
        "id": "Z0e_CfAt2N_4"
      },
      "source": [
        "# Let's sample 2000 realizations of this Gamma distribution\n",
        "X = G.rvs(size=2000)"
      ],
      "execution_count": null,
      "outputs": []
    },
    {
      "cell_type": "code",
      "metadata": {
        "ExecuteTime": {
          "end_time": "2020-09-03T08:43:24.012981Z",
          "start_time": "2020-09-03T08:43:24.009672Z"
        },
        "id": "XX0YPw_32N_7"
      },
      "source": [
        "def neg_log_lik(params, X):\n",
        "    \"\"\"Negative log-likelihood of a Gamma distribution\n",
        "    \n",
        "    Parameters\n",
        "    ---------\n",
        "    params : `np.ndarray`, shape=(2,)\n",
        "        params[0] is parameter a of the Gamma distribution\n",
        "        params[1] is the intensity (1/scale) of the Gamma \n",
        "        distribution\n",
        "\n",
        "    X : `np.ndarray`, shape=(n_samples,)\n",
        "        The samples on which the negative log-likelihood is\n",
        "        computed\n",
        "    \n",
        "    Returns\n",
        "    -------\n",
        "    output : `float`\n",
        "        The value of the negative log-likelihood\n",
        "    \"\"\"\n",
        "    a, intensity = params\n",
        "    return -np.log(gamma.pdf(X, a=a, scale=1 / intensity)).mean()"
      ],
      "execution_count": null,
      "outputs": []
    },
    {
      "cell_type": "code",
      "metadata": {
        "ExecuteTime": {
          "end_time": "2020-09-03T08:43:24.018474Z",
          "start_time": "2020-09-03T08:43:24.014363Z"
        },
        "scrolled": false,
        "id": "dBK1YHvt2N_9"
      },
      "source": [
        "neg_log_lik(np.array([4.2, 1.5]), X)"
      ],
      "execution_count": null,
      "outputs": []
    },
    {
      "cell_type": "code",
      "metadata": {
        "ExecuteTime": {
          "end_time": "2020-09-03T08:43:24.023980Z",
          "start_time": "2020-09-03T08:43:24.020208Z"
        },
        "scrolled": true,
        "id": "OtZMINdc2N__"
      },
      "source": [
        "neg_log_lik(np.array([6., 1.]), X)"
      ],
      "execution_count": null,
      "outputs": []
    },
    {
      "cell_type": "markdown",
      "metadata": {
        "id": "n3OxeUO12OAF"
      },
      "source": [
        "We use the fact that if $X \\sim \\Gamma(a, \\lambda)$ then $\\mathbb E X = \\frac{a}{\\lambda}$ and $\\text{var}(X) = \\frac{a}{\\lambda^2}$ so that\n",
        "$\\lambda = \\frac{\\mathbb E X}{\\text{var}(X)}$ and $a = \\mathbb E X \\times \\lambda$, so that we can use the methods of moments.\n"
      ]
    },
    {
      "cell_type": "code",
      "metadata": {
        "ExecuteTime": {
          "end_time": "2020-09-03T08:43:24.028573Z",
          "start_time": "2020-09-03T08:43:24.025521Z"
        },
        "scrolled": true,
        "id": "fcKr8cIg2OAG"
      },
      "source": [
        "X.mean() / X.var()"
      ],
      "execution_count": null,
      "outputs": []
    },
    {
      "cell_type": "code",
      "metadata": {
        "ExecuteTime": {
          "end_time": "2020-09-03T08:43:24.033708Z",
          "start_time": "2020-09-03T08:43:24.029974Z"
        },
        "id": "FLEEMQ4a2OAK"
      },
      "source": [
        "X.mean() * intensity"
      ],
      "execution_count": null,
      "outputs": []
    },
    {
      "cell_type": "code",
      "metadata": {
        "ExecuteTime": {
          "end_time": "2020-09-03T08:43:24.038603Z",
          "start_time": "2020-09-03T08:43:24.035157Z"
        },
        "id": "SMPCk5Xz2OAN"
      },
      "source": [
        "def mle_gamma(X, verbose=False):\n",
        "    \"\"\"Compute the maximum likelihood estimator (MLE) of the Gamma\n",
        "    distribution, using an initialization based on the method of\n",
        "    moments\n",
        "    \n",
        "    Parameters\n",
        "    ----------\n",
        "    X : `np.ndarray`, shape=(n_samples,)\n",
        "        The samples on which we apply MLE for the Gamma \n",
        "        distribution\n",
        "    \n",
        "    verbose : `bool`\n",
        "        If `True`, display information about convergence,\n",
        "        otherwise STFU\n",
        "        \n",
        "    Returns\n",
        "    -------\n",
        "    output : `tuple[float, float]`\n",
        "        The estimated (a, intensity) parameter        \n",
        "    \"\"\"\n",
        "    from scipy.optimize import fmin_bfgs\n",
        "\n",
        "    # We initialize the solver using the method of moments\n",
        "    intensity0 = X.mean() / X.var()\n",
        "    a0 = X.mean() * intensity0\n",
        "\n",
        "    a, intensity = fmin_bfgs(\n",
        "        lambda params: neg_log_lik(params, X),\n",
        "        np.array([a0, 1 / intensity0]),\n",
        "        full_output=0,\n",
        "        disp=verbose\n",
        "    )\n",
        "    return a, intensity"
      ],
      "execution_count": null,
      "outputs": []
    },
    {
      "cell_type": "code",
      "metadata": {
        "ExecuteTime": {
          "end_time": "2020-09-03T08:43:24.081478Z",
          "start_time": "2020-09-03T08:43:24.039984Z"
        },
        "scrolled": false,
        "id": "fiy7sRlM2OAP"
      },
      "source": [
        "mle_gamma(X, verbose=True)"
      ],
      "execution_count": null,
      "outputs": []
    },
    {
      "cell_type": "code",
      "metadata": {
        "ExecuteTime": {
          "end_time": "2020-09-03T08:43:24.087773Z",
          "start_time": "2020-09-03T08:43:24.083556Z"
        },
        "id": "qjLrams52OAR"
      },
      "source": [
        "gamma.fit(X, floc=0)"
      ],
      "execution_count": null,
      "outputs": []
    }
  ]
}