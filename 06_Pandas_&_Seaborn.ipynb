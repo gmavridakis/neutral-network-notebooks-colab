{
  "nbformat": 4,
  "nbformat_minor": 0,
  "metadata": {
    "anaconda-cloud": {},
    "celltoolbar": "Slideshow",
    "kernelspec": {
      "display_name": "Python 3",
      "language": "python",
      "name": "python3"
    },
    "language_info": {
      "codemirror_mode": {
        "name": "ipython",
        "version": 3
      },
      "file_extension": ".py",
      "mimetype": "text/x-python",
      "name": "python",
      "nbconvert_exporter": "python",
      "pygments_lexer": "ipython3",
      "version": "3.7.6"
    },
    "toc": {
      "base_numbering": 1,
      "nav_menu": {},
      "number_sections": true,
      "sideBar": true,
      "skip_h1_title": false,
      "title_cell": "Table of Contents",
      "title_sidebar": "Contents",
      "toc_cell": false,
      "toc_position": {
        "height": "calc(100% - 180px)",
        "left": "10px",
        "top": "150px",
        "width": "274.54998779296875px"
      },
      "toc_section_display": true,
      "toc_window_display": true
    },
    "colab": {
      "name": "06 Pandas & Seaborn.ipynb",
      "provenance": [],
      "include_colab_link": true
    }
  },
  "cells": [
    {
      "cell_type": "markdown",
      "metadata": {
        "id": "view-in-github",
        "colab_type": "text"
      },
      "source": [
        "<a href=\"https://colab.research.google.com/github/gsiolas/nn-notebooks/blob/main/06_Pandas_%26_Seaborn.ipynb\" target=\"_parent\"><img src=\"https://colab.research.google.com/assets/colab-badge.svg\" alt=\"Open In Colab\"/></a>"
      ]
    },
    {
      "cell_type": "markdown",
      "metadata": {
        "id": "y2Ds6leT2WAi"
      },
      "source": [
        "# Lightspeed introduction to `pandas`\n",
        "\n",
        "![](https://upload.wikimedia.org/wikipedia/commons/thumb/e/ed/Pandas_logo.svg/2560px-Pandas_logo.svg.png)\n",
        "\n",
        "Pandas is the library providing tools to crunch data simply.\n",
        "\n",
        "It mainly provides a `DataFrame` object"
      ]
    },
    {
      "cell_type": "code",
      "metadata": {
        "id": "NolAhch3P0Jj"
      },
      "source": [
        ""
      ],
      "execution_count": null,
      "outputs": []
    },
    {
      "cell_type": "code",
      "metadata": {
        "ExecuteTime": {
          "end_time": "2020-09-17T11:32:22.131468Z",
          "start_time": "2020-09-17T11:32:21.258970Z"
        },
        "scrolled": true,
        "id": "dALYUXXF2WAl"
      },
      "source": [
        "import numpy as np\n",
        "import pandas as pd\n",
        "\n",
        "df = pd.DataFrame({ \n",
        "    'A' : 1.,\n",
        "    'B' : pd.Timestamp('20130102'),\n",
        "    'C' : pd.Series(1, dtype='float32'),\n",
        "    'C' : pd.Series(1, index=[0, 2], dtype='float32'),\n",
        "    'D' : pd.Series([1, 2, 3, 4], dtype='int32'),\n",
        "    'E' : pd.Categorical([\"test\", \"train\", \"test\", \"train\"]),\n",
        "    'F' : 'foo',\n",
        "    'G' : np.random.randn(4)\n",
        "})\n",
        "df"
      ],
      "execution_count": null,
      "outputs": []
    },
    {
      "cell_type": "markdown",
      "metadata": {
        "id": "UcWurpoH2WAu"
      },
      "source": [
        "## Basic things"
      ]
    },
    {
      "cell_type": "code",
      "metadata": {
        "ExecuteTime": {
          "end_time": "2020-09-17T11:32:22.137277Z",
          "start_time": "2020-09-17T11:32:22.133563Z"
        },
        "id": "LKmpK36o2WAv"
      },
      "source": [
        "# Columns can be accessed by name (when it makes sense)\n",
        "df.B"
      ],
      "execution_count": null,
      "outputs": []
    },
    {
      "cell_type": "code",
      "metadata": {
        "ExecuteTime": {
          "end_time": "2020-09-17T11:32:22.142626Z",
          "start_time": "2020-09-17T11:32:22.139148Z"
        },
        "id": "lEh7k3jP2WA5"
      },
      "source": [
        "# Or like keys in a dict\n",
        "df['B']"
      ],
      "execution_count": null,
      "outputs": []
    },
    {
      "cell_type": "code",
      "metadata": {
        "ExecuteTime": {
          "end_time": "2020-09-17T11:32:22.147090Z",
          "start_time": "2020-09-17T11:32:22.144175Z"
        },
        "scrolled": true,
        "id": "iyshxbC12WBA"
      },
      "source": [
        "type(df.B)"
      ],
      "execution_count": null,
      "outputs": []
    },
    {
      "cell_type": "code",
      "metadata": {
        "ExecuteTime": {
          "end_time": "2020-09-17T11:32:22.154777Z",
          "start_time": "2020-09-17T11:32:22.148459Z"
        },
        "id": "qBYyrKiu2WBF"
      },
      "source": [
        "# To select a list of columns\n",
        "df[['A', 'C']]"
      ],
      "execution_count": null,
      "outputs": []
    },
    {
      "cell_type": "code",
      "metadata": {
        "ExecuteTime": {
          "end_time": "2020-09-17T11:32:22.262601Z",
          "start_time": "2020-09-17T11:32:22.258996Z"
        },
        "id": "VJHdrgUf2WBI"
      },
      "source": [
        "df.dtypes"
      ],
      "execution_count": null,
      "outputs": []
    },
    {
      "cell_type": "code",
      "metadata": {
        "ExecuteTime": {
          "end_time": "2020-09-17T11:32:22.357706Z",
          "start_time": "2020-09-17T11:32:22.349873Z"
        },
        "id": "qV1Isrum2WBK"
      },
      "source": [
        "df.info()"
      ],
      "execution_count": null,
      "outputs": []
    },
    {
      "cell_type": "markdown",
      "metadata": {
        "id": "iJexMIm22WBO"
      },
      "source": [
        "## Groupby and aggregations\n",
        "\n",
        "Basic syntax: group rows using the categories of a column and perform an aggregation on the groups"
      ]
    },
    {
      "cell_type": "code",
      "metadata": {
        "ExecuteTime": {
          "end_time": "2020-09-17T11:32:22.657612Z",
          "start_time": "2020-09-17T11:32:22.646993Z"
        },
        "id": "R5_LPLQ02WBP"
      },
      "source": [
        "df"
      ],
      "execution_count": null,
      "outputs": []
    },
    {
      "cell_type": "code",
      "metadata": {
        "ExecuteTime": {
          "end_time": "2020-09-17T11:32:22.798042Z",
          "start_time": "2020-09-17T11:32:22.785577Z"
        },
        "id": "URqTWY8R2WBU"
      },
      "source": [
        "# Compute the sum of D for each category in E\n",
        "df.groupby('E').sum().reset_index()"
      ],
      "execution_count": null,
      "outputs": []
    },
    {
      "cell_type": "markdown",
      "metadata": {
        "id": "T3375N5F2WBX"
      },
      "source": [
        "# Lightspeed introduction to `seaborn`\n",
        "\n",
        "![](https://seaborn.pydata.org/_static/logo-wide-lightbg.svg)\n",
        "\n",
        "It's a graphics library built on top of `matplotlib` which\n",
        "- works pretty neatly with `pandas` `DataFrame`s\n",
        "- provides simpler ways to make nice visualization of datasets\n",
        "\n",
        "Let's illustrate this using the toy `tips` dataset that comes with `seaborn`"
      ]
    },
    {
      "cell_type": "code",
      "metadata": {
        "ExecuteTime": {
          "end_time": "2020-09-17T11:32:24.105304Z",
          "start_time": "2020-09-17T11:32:23.073465Z"
        },
        "id": "sauUL8dv2WBX"
      },
      "source": [
        "import seaborn as sns\n",
        "\n",
        "# Load one of the data sets that comes with seaborn\n",
        "tips = sns.load_dataset(\"tips\")\n",
        "\n",
        "# First 10 rows of the dataframe\n",
        "tips.head(n=10)"
      ],
      "execution_count": null,
      "outputs": []
    },
    {
      "cell_type": "code",
      "metadata": {
        "ExecuteTime": {
          "end_time": "2020-09-17T11:32:24.129488Z",
          "start_time": "2020-09-17T11:32:24.106858Z"
        },
        "scrolled": true,
        "id": "MsexQ0YE2WBZ"
      },
      "source": [
        "tips.describe(include='all')"
      ],
      "execution_count": null,
      "outputs": []
    },
    {
      "cell_type": "code",
      "metadata": {
        "ExecuteTime": {
          "end_time": "2020-09-17T11:32:24.136335Z",
          "start_time": "2020-09-17T11:32:24.131824Z"
        },
        "id": "SZpL7-yJ2WBc"
      },
      "source": [
        "tips['day'].unique()"
      ],
      "execution_count": null,
      "outputs": []
    },
    {
      "cell_type": "code",
      "metadata": {
        "ExecuteTime": {
          "end_time": "2020-09-17T11:32:24.142521Z",
          "start_time": "2020-09-17T11:32:24.138707Z"
        },
        "id": "zdLXTplr2WBe"
      },
      "source": [
        "tips.dtypes"
      ],
      "execution_count": null,
      "outputs": []
    },
    {
      "cell_type": "code",
      "metadata": {
        "ExecuteTime": {
          "end_time": "2020-09-17T11:32:24.149434Z",
          "start_time": "2020-09-17T11:32:24.143926Z"
        },
        "id": "fJrS4dg_2WBh"
      },
      "source": [
        "tips.info()"
      ],
      "execution_count": null,
      "outputs": []
    },
    {
      "cell_type": "code",
      "metadata": {
        "ExecuteTime": {
          "end_time": "2020-09-17T11:32:24.584747Z",
          "start_time": "2020-09-17T11:32:24.150741Z"
        },
        "scrolled": false,
        "id": "nK0MGLdY2WBj"
      },
      "source": [
        "sns.jointplot(\"total_bill\", \"tip\", data=tips)"
      ],
      "execution_count": null,
      "outputs": []
    },
    {
      "cell_type": "markdown",
      "metadata": {
        "id": "6ifCr69h2WBl"
      },
      "source": [
        "## Exercice 1\n",
        "\n",
        "Compute the tip percentage of Dinner VS Lunch for each day of the week"
      ]
    },
    {
      "cell_type": "code",
      "metadata": {
        "ExecuteTime": {
          "end_time": "2020-09-17T11:32:24.597690Z",
          "start_time": "2020-09-17T11:32:24.586842Z"
        },
        "id": "jiomfXg62WBl"
      },
      "source": [
        "tips.head()"
      ],
      "execution_count": null,
      "outputs": []
    },
    {
      "cell_type": "markdown",
      "metadata": {
        "id": "dN_68s2F2WBo"
      },
      "source": [
        "### Answer"
      ]
    },
    {
      "cell_type": "code",
      "metadata": {
        "ExecuteTime": {
          "end_time": "2020-09-17T11:32:24.626057Z",
          "start_time": "2020-09-17T11:32:24.600585Z"
        },
        "scrolled": true,
        "id": "vxnz77ir2WBo"
      },
      "source": [
        "tips['tip_percentage'] = 100 * tips['tip'] / tips['total_bill']\n",
        "tips.groupby(['time', 'day']).mean()[['tip_percentage']]"
      ],
      "execution_count": null,
      "outputs": []
    },
    {
      "cell_type": "markdown",
      "metadata": {
        "id": "IKgFu3ok2WBr"
      },
      "source": [
        "## Exercice 2 \n",
        "\n",
        "Convert `size` as a categorical variable"
      ]
    },
    {
      "cell_type": "markdown",
      "metadata": {
        "ExecuteTime": {
          "end_time": "2019-11-27T21:00:22.944638Z",
          "start_time": "2019-11-27T21:00:22.940798Z"
        },
        "id": "wbHs9wgK2WBr"
      },
      "source": [
        "### Answer"
      ]
    },
    {
      "cell_type": "code",
      "metadata": {
        "ExecuteTime": {
          "end_time": "2020-09-17T11:32:24.786947Z",
          "start_time": "2020-09-17T11:32:24.775886Z"
        },
        "id": "wycBtrjT2WBs"
      },
      "source": [
        "# We want to deal with size as a categorical variable\n",
        "tips['size'] = tips['size'].astype('category')\n",
        "tips.head(5)"
      ],
      "execution_count": null,
      "outputs": []
    },
    {
      "cell_type": "markdown",
      "metadata": {
        "id": "TSA_vXNy2WBu"
      },
      "source": [
        "## Exercice 3\n",
        "\n",
        "One-hot encode (or \"create dummies\" or \"binarize\") the categorical variables (this can be easily achieved with the `pandas.get_dummies` function)"
      ]
    },
    {
      "cell_type": "markdown",
      "metadata": {
        "ExecuteTime": {
          "end_time": "2019-11-27T21:03:46.544792Z",
          "start_time": "2019-11-27T21:03:46.538443Z"
        },
        "id": "ZiCmxpwM2WBv"
      },
      "source": [
        "### Answer"
      ]
    },
    {
      "cell_type": "code",
      "metadata": {
        "ExecuteTime": {
          "end_time": "2020-09-17T11:32:25.241353Z",
          "start_time": "2020-09-17T11:32:25.210392Z"
        },
        "id": "2M3ZrM6I2WBv"
      },
      "source": [
        "data = pd.get_dummies(tips, prefix_sep='#')\n",
        "data.head(5)"
      ],
      "execution_count": null,
      "outputs": []
    },
    {
      "cell_type": "markdown",
      "metadata": {
        "id": "QIS0oC7V2WBy"
      },
      "source": [
        "Only categorical columns have been \"binarized\". For instance, the `'day'` column is replaced by 4 columns named `'day#Thur'`, `'day#Fri'`, `'day#Sat'`, `'day#Sun'`, since `'day'` has 4 modalities (see next line)."
      ]
    },
    {
      "cell_type": "code",
      "metadata": {
        "ExecuteTime": {
          "end_time": "2020-09-17T11:32:25.520494Z",
          "start_time": "2020-09-17T11:32:25.515339Z"
        },
        "scrolled": true,
        "id": "MUJi1lV12WBy"
      },
      "source": [
        "tips['day'].unique()"
      ],
      "execution_count": null,
      "outputs": []
    },
    {
      "cell_type": "markdown",
      "metadata": {
        "id": "Q6ckzck52WB1"
      },
      "source": [
        "## Remark\n",
        "\n",
        "Sums over dummies for `sex`, `smoker`, `day`, `time` and `size` are all equal to one.\n",
        "\n",
        "- Leads to colinearities, hence bad conditioning of the features matrix\n",
        "- Can be checked through a SVD (but don't compute the SVD of a large matrix!)"
      ]
    },
    {
      "cell_type": "code",
      "metadata": {
        "ExecuteTime": {
          "end_time": "2020-09-17T11:32:26.199160Z",
          "start_time": "2020-09-17T11:32:25.799116Z"
        },
        "scrolled": true,
        "id": "MNItrxys2WB2"
      },
      "source": [
        "import matplotlib.pyplot as plt\n",
        "%matplotlib inline\n",
        "\n",
        "s = np.linalg.svd(data, compute_uv=False)\n",
        "plt.yscale('log')\n",
        "plt.title('Spectrum of the features matrix', fontsize=16)\n",
        "_ = plt.stem(s, use_line_collection=True)"
      ],
      "execution_count": null,
      "outputs": []
    },
    {
      "cell_type": "code",
      "metadata": {
        "ExecuteTime": {
          "end_time": "2020-09-17T11:32:26.229336Z",
          "start_time": "2020-09-17T11:32:26.201065Z"
        },
        "id": "43sMMct22WB4"
      },
      "source": [
        "data = pd.get_dummies(tips, prefix_sep='#', drop_first=True)\n",
        "data.head()"
      ],
      "execution_count": null,
      "outputs": []
    },
    {
      "cell_type": "markdown",
      "metadata": {
        "id": "94ns5K_f2WB6"
      },
      "source": [
        "Now, if a categorical feature has $K$ modalities, we use only $K-1$ dummies"
      ]
    },
    {
      "cell_type": "code",
      "metadata": {
        "ExecuteTime": {
          "end_time": "2020-09-17T11:32:26.406551Z",
          "start_time": "2020-09-17T11:32:26.394171Z"
        },
        "id": "JejErFwm2WB7"
      },
      "source": [
        "data.head()"
      ],
      "execution_count": null,
      "outputs": []
    },
    {
      "cell_type": "markdown",
      "metadata": {
        "ExecuteTime": {
          "end_time": "2019-11-27T21:02:22.405770Z",
          "start_time": "2019-11-27T21:02:22.399935Z"
        },
        "id": "yLsNd_Qo2WB9"
      },
      "source": [
        "## Exercice 4\n",
        "\n",
        "Normalize the continuous features"
      ]
    },
    {
      "cell_type": "markdown",
      "metadata": {
        "id": "sm7Z0xgR2WB9"
      },
      "source": [
        "### Answer"
      ]
    },
    {
      "cell_type": "code",
      "metadata": {
        "ExecuteTime": {
          "end_time": "2020-09-17T11:32:27.240682Z",
          "start_time": "2020-09-17T11:32:27.236155Z"
        },
        "id": "soKm-upn2WB-"
      },
      "source": [
        "def normalize_min_max(columns, data):\n",
        "    \"\"\"Min-max scale columns in data\n",
        "\n",
        "    Parameters\n",
        "    ----------\n",
        "    columns : `List[str]`\n",
        "        A list of columns to min-max scale\n",
        "\n",
        "    data : `pandas.DataFrame`\n",
        "        A dataframe containing the given columns\n",
        "\n",
        "    Returns\n",
        "    -------\n",
        "    output : `None`\n",
        "        data is modified inplace and not return by the fonction\n",
        "    \"\"\"\n",
        "    min_max = data[columns].agg(['min', 'max'])\n",
        "    for col in columns:\n",
        "        data[col] -= min_max.loc['min', col]\n",
        "        data[col] /= (min_max.loc['max', col] - min_max.loc['min', col])    "
      ],
      "execution_count": null,
      "outputs": []
    },
    {
      "cell_type": "code",
      "metadata": {
        "ExecuteTime": {
          "end_time": "2020-09-17T11:32:27.395740Z",
          "start_time": "2020-09-17T11:32:27.387249Z"
        },
        "id": "r__GdcXY2WCB"
      },
      "source": [
        "normalize_min_max(['total_bill', 'tip'], data)"
      ],
      "execution_count": null,
      "outputs": []
    },
    {
      "cell_type": "code",
      "metadata": {
        "ExecuteTime": {
          "end_time": "2020-09-17T11:32:27.583343Z",
          "start_time": "2020-09-17T11:32:27.568790Z"
        },
        "id": "ZS6XrwJD2WCD"
      },
      "source": [
        "data[['total_bill', 'tip']].describe()"
      ],
      "execution_count": null,
      "outputs": []
    }
  ]
}